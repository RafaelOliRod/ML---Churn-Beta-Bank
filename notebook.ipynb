{
 "cells": [
  {
   "cell_type": "markdown",
   "metadata": {},
   "source": [
    "# Churn - Beta Bank"
   ]
  },
  {
   "cell_type": "code",
   "execution_count": 1,
   "metadata": {},
   "outputs": [],
   "source": [
    "import pandas as pd\n",
    "import seaborn as sns\n",
    "import numpy as np\n",
    "import matplotlib.pyplot as plt\n",
    "from sklearn.impute import SimpleImputer\n",
    "from sklearn.preprocessing import StandardScaler\n",
    "from imblearn.under_sampling import RandomUnderSampler\n",
    "from imblearn.over_sampling import RandomOverSampler\n",
    "from sklearn.model_selection import train_test_split\n",
    "from sklearn.linear_model import LogisticRegression\n",
    "from sklearn.metrics import classification_report, confusion_matrix, accuracy_score\n",
    "from sklearn.model_selection import train_test_split\n",
    "from sklearn.utils import resample\n",
    "from imblearn.over_sampling import SMOTE\n",
    "from sklearn.metrics import roc_auc_score, average_precision_score\n",
    "from sklearn.metrics import roc_curve, precision_recall_curve\n",
    "from sklearn.ensemble import RandomForestClassifier\n",
    "from sklearn.ensemble import GradientBoostingClassifier\n",
    "from sklearn.metrics import precision_score, recall_score, f1_score\n",
    "from sklearn.model_selection import GridSearchCV\n",
    "from sklearn.model_selection import RandomizedSearchCV\n",
    "from scipy.stats import randint"
   ]
  },
  {
   "cell_type": "code",
   "execution_count": 2,
   "metadata": {},
   "outputs": [],
   "source": [
    "df = pd.read_csv('datasets/churn.csv')"
   ]
  },
  {
   "cell_type": "markdown",
   "metadata": {},
   "source": [
    "## Preparação dos Dados"
   ]
  },
  {
   "cell_type": "code",
   "execution_count": 3,
   "metadata": {},
   "outputs": [
    {
     "data": {
      "text/html": [
       "<div>\n",
       "<style scoped>\n",
       "    .dataframe tbody tr th:only-of-type {\n",
       "        vertical-align: middle;\n",
       "    }\n",
       "\n",
       "    .dataframe tbody tr th {\n",
       "        vertical-align: top;\n",
       "    }\n",
       "\n",
       "    .dataframe thead th {\n",
       "        text-align: right;\n",
       "    }\n",
       "</style>\n",
       "<table border=\"1\" class=\"dataframe\">\n",
       "  <thead>\n",
       "    <tr style=\"text-align: right;\">\n",
       "      <th></th>\n",
       "      <th>RowNumber</th>\n",
       "      <th>CustomerId</th>\n",
       "      <th>Surname</th>\n",
       "      <th>CreditScore</th>\n",
       "      <th>Geography</th>\n",
       "      <th>Gender</th>\n",
       "      <th>Age</th>\n",
       "      <th>Tenure</th>\n",
       "      <th>Balance</th>\n",
       "      <th>NumOfProducts</th>\n",
       "      <th>HasCrCard</th>\n",
       "      <th>IsActiveMember</th>\n",
       "      <th>EstimatedSalary</th>\n",
       "      <th>Exited</th>\n",
       "    </tr>\n",
       "  </thead>\n",
       "  <tbody>\n",
       "    <tr>\n",
       "      <th>0</th>\n",
       "      <td>1</td>\n",
       "      <td>15634602</td>\n",
       "      <td>Hargrave</td>\n",
       "      <td>619</td>\n",
       "      <td>France</td>\n",
       "      <td>Female</td>\n",
       "      <td>42</td>\n",
       "      <td>2.0</td>\n",
       "      <td>0.00</td>\n",
       "      <td>1</td>\n",
       "      <td>1</td>\n",
       "      <td>1</td>\n",
       "      <td>101348.88</td>\n",
       "      <td>1</td>\n",
       "    </tr>\n",
       "    <tr>\n",
       "      <th>1</th>\n",
       "      <td>2</td>\n",
       "      <td>15647311</td>\n",
       "      <td>Hill</td>\n",
       "      <td>608</td>\n",
       "      <td>Spain</td>\n",
       "      <td>Female</td>\n",
       "      <td>41</td>\n",
       "      <td>1.0</td>\n",
       "      <td>83807.86</td>\n",
       "      <td>1</td>\n",
       "      <td>0</td>\n",
       "      <td>1</td>\n",
       "      <td>112542.58</td>\n",
       "      <td>0</td>\n",
       "    </tr>\n",
       "    <tr>\n",
       "      <th>2</th>\n",
       "      <td>3</td>\n",
       "      <td>15619304</td>\n",
       "      <td>Onio</td>\n",
       "      <td>502</td>\n",
       "      <td>France</td>\n",
       "      <td>Female</td>\n",
       "      <td>42</td>\n",
       "      <td>8.0</td>\n",
       "      <td>159660.80</td>\n",
       "      <td>3</td>\n",
       "      <td>1</td>\n",
       "      <td>0</td>\n",
       "      <td>113931.57</td>\n",
       "      <td>1</td>\n",
       "    </tr>\n",
       "    <tr>\n",
       "      <th>3</th>\n",
       "      <td>4</td>\n",
       "      <td>15701354</td>\n",
       "      <td>Boni</td>\n",
       "      <td>699</td>\n",
       "      <td>France</td>\n",
       "      <td>Female</td>\n",
       "      <td>39</td>\n",
       "      <td>1.0</td>\n",
       "      <td>0.00</td>\n",
       "      <td>2</td>\n",
       "      <td>0</td>\n",
       "      <td>0</td>\n",
       "      <td>93826.63</td>\n",
       "      <td>0</td>\n",
       "    </tr>\n",
       "    <tr>\n",
       "      <th>4</th>\n",
       "      <td>5</td>\n",
       "      <td>15737888</td>\n",
       "      <td>Mitchell</td>\n",
       "      <td>850</td>\n",
       "      <td>Spain</td>\n",
       "      <td>Female</td>\n",
       "      <td>43</td>\n",
       "      <td>2.0</td>\n",
       "      <td>125510.82</td>\n",
       "      <td>1</td>\n",
       "      <td>1</td>\n",
       "      <td>1</td>\n",
       "      <td>79084.10</td>\n",
       "      <td>0</td>\n",
       "    </tr>\n",
       "    <tr>\n",
       "      <th>5</th>\n",
       "      <td>6</td>\n",
       "      <td>15574012</td>\n",
       "      <td>Chu</td>\n",
       "      <td>645</td>\n",
       "      <td>Spain</td>\n",
       "      <td>Male</td>\n",
       "      <td>44</td>\n",
       "      <td>8.0</td>\n",
       "      <td>113755.78</td>\n",
       "      <td>2</td>\n",
       "      <td>1</td>\n",
       "      <td>0</td>\n",
       "      <td>149756.71</td>\n",
       "      <td>1</td>\n",
       "    </tr>\n",
       "    <tr>\n",
       "      <th>6</th>\n",
       "      <td>7</td>\n",
       "      <td>15592531</td>\n",
       "      <td>Bartlett</td>\n",
       "      <td>822</td>\n",
       "      <td>France</td>\n",
       "      <td>Male</td>\n",
       "      <td>50</td>\n",
       "      <td>7.0</td>\n",
       "      <td>0.00</td>\n",
       "      <td>2</td>\n",
       "      <td>1</td>\n",
       "      <td>1</td>\n",
       "      <td>10062.80</td>\n",
       "      <td>0</td>\n",
       "    </tr>\n",
       "    <tr>\n",
       "      <th>7</th>\n",
       "      <td>8</td>\n",
       "      <td>15656148</td>\n",
       "      <td>Obinna</td>\n",
       "      <td>376</td>\n",
       "      <td>Germany</td>\n",
       "      <td>Female</td>\n",
       "      <td>29</td>\n",
       "      <td>4.0</td>\n",
       "      <td>115046.74</td>\n",
       "      <td>4</td>\n",
       "      <td>1</td>\n",
       "      <td>0</td>\n",
       "      <td>119346.88</td>\n",
       "      <td>1</td>\n",
       "    </tr>\n",
       "    <tr>\n",
       "      <th>8</th>\n",
       "      <td>9</td>\n",
       "      <td>15792365</td>\n",
       "      <td>He</td>\n",
       "      <td>501</td>\n",
       "      <td>France</td>\n",
       "      <td>Male</td>\n",
       "      <td>44</td>\n",
       "      <td>4.0</td>\n",
       "      <td>142051.07</td>\n",
       "      <td>2</td>\n",
       "      <td>0</td>\n",
       "      <td>1</td>\n",
       "      <td>74940.50</td>\n",
       "      <td>0</td>\n",
       "    </tr>\n",
       "    <tr>\n",
       "      <th>9</th>\n",
       "      <td>10</td>\n",
       "      <td>15592389</td>\n",
       "      <td>H?</td>\n",
       "      <td>684</td>\n",
       "      <td>France</td>\n",
       "      <td>Male</td>\n",
       "      <td>27</td>\n",
       "      <td>2.0</td>\n",
       "      <td>134603.88</td>\n",
       "      <td>1</td>\n",
       "      <td>1</td>\n",
       "      <td>1</td>\n",
       "      <td>71725.73</td>\n",
       "      <td>0</td>\n",
       "    </tr>\n",
       "  </tbody>\n",
       "</table>\n",
       "</div>"
      ],
      "text/plain": [
       "   RowNumber  CustomerId   Surname  CreditScore Geography  Gender  Age  \\\n",
       "0          1    15634602  Hargrave          619    France  Female   42   \n",
       "1          2    15647311      Hill          608     Spain  Female   41   \n",
       "2          3    15619304      Onio          502    France  Female   42   \n",
       "3          4    15701354      Boni          699    France  Female   39   \n",
       "4          5    15737888  Mitchell          850     Spain  Female   43   \n",
       "5          6    15574012       Chu          645     Spain    Male   44   \n",
       "6          7    15592531  Bartlett          822    France    Male   50   \n",
       "7          8    15656148    Obinna          376   Germany  Female   29   \n",
       "8          9    15792365        He          501    France    Male   44   \n",
       "9         10    15592389        H?          684    France    Male   27   \n",
       "\n",
       "   Tenure    Balance  NumOfProducts  HasCrCard  IsActiveMember  \\\n",
       "0     2.0       0.00              1          1               1   \n",
       "1     1.0   83807.86              1          0               1   \n",
       "2     8.0  159660.80              3          1               0   \n",
       "3     1.0       0.00              2          0               0   \n",
       "4     2.0  125510.82              1          1               1   \n",
       "5     8.0  113755.78              2          1               0   \n",
       "6     7.0       0.00              2          1               1   \n",
       "7     4.0  115046.74              4          1               0   \n",
       "8     4.0  142051.07              2          0               1   \n",
       "9     2.0  134603.88              1          1               1   \n",
       "\n",
       "   EstimatedSalary  Exited  \n",
       "0        101348.88       1  \n",
       "1        112542.58       0  \n",
       "2        113931.57       1  \n",
       "3         93826.63       0  \n",
       "4         79084.10       0  \n",
       "5        149756.71       1  \n",
       "6         10062.80       0  \n",
       "7        119346.88       1  \n",
       "8         74940.50       0  \n",
       "9         71725.73       0  "
      ]
     },
     "execution_count": 3,
     "metadata": {},
     "output_type": "execute_result"
    }
   ],
   "source": [
    "df.head(10)"
   ]
  },
  {
   "cell_type": "code",
   "execution_count": 4,
   "metadata": {},
   "outputs": [
    {
     "name": "stdout",
     "output_type": "stream",
     "text": [
      "<class 'pandas.core.frame.DataFrame'>\n",
      "RangeIndex: 10000 entries, 0 to 9999\n",
      "Data columns (total 14 columns):\n",
      " #   Column           Non-Null Count  Dtype  \n",
      "---  ------           --------------  -----  \n",
      " 0   RowNumber        10000 non-null  int64  \n",
      " 1   CustomerId       10000 non-null  int64  \n",
      " 2   Surname          10000 non-null  object \n",
      " 3   CreditScore      10000 non-null  int64  \n",
      " 4   Geography        10000 non-null  object \n",
      " 5   Gender           10000 non-null  object \n",
      " 6   Age              10000 non-null  int64  \n",
      " 7   Tenure           9091 non-null   float64\n",
      " 8   Balance          10000 non-null  float64\n",
      " 9   NumOfProducts    10000 non-null  int64  \n",
      " 10  HasCrCard        10000 non-null  int64  \n",
      " 11  IsActiveMember   10000 non-null  int64  \n",
      " 12  EstimatedSalary  10000 non-null  float64\n",
      " 13  Exited           10000 non-null  int64  \n",
      "dtypes: float64(3), int64(8), object(3)\n",
      "memory usage: 1.1+ MB\n"
     ]
    }
   ],
   "source": [
    "df.info()"
   ]
  },
  {
   "cell_type": "markdown",
   "metadata": {},
   "source": [
    "OBS: Foram identificados dados faltantes na coluna \"Tenure\" e será verificado o melhor método para tratar estes dados."
   ]
  },
  {
   "cell_type": "markdown",
   "metadata": {},
   "source": [
    "### Verificando Dados Duplicados"
   ]
  },
  {
   "cell_type": "code",
   "execution_count": 5,
   "metadata": {},
   "outputs": [
    {
     "name": "stdout",
     "output_type": "stream",
     "text": [
      "Número de linhas duplicadas: 0\n"
     ]
    }
   ],
   "source": [
    "num_duplicadas = df.duplicated().sum()\n",
    "print(f\"Número de linhas duplicadas: {num_duplicadas}\")"
   ]
  },
  {
   "cell_type": "markdown",
   "metadata": {},
   "source": [
    "### Convertendo Nomes de Colunas pela Convenção 'snake_case'"
   ]
  },
  {
   "cell_type": "code",
   "execution_count": 6,
   "metadata": {},
   "outputs": [
    {
     "data": {
      "text/html": [
       "<div>\n",
       "<style scoped>\n",
       "    .dataframe tbody tr th:only-of-type {\n",
       "        vertical-align: middle;\n",
       "    }\n",
       "\n",
       "    .dataframe tbody tr th {\n",
       "        vertical-align: top;\n",
       "    }\n",
       "\n",
       "    .dataframe thead th {\n",
       "        text-align: right;\n",
       "    }\n",
       "</style>\n",
       "<table border=\"1\" class=\"dataframe\">\n",
       "  <thead>\n",
       "    <tr style=\"text-align: right;\">\n",
       "      <th></th>\n",
       "      <th>row_number</th>\n",
       "      <th>customer_id</th>\n",
       "      <th>surname</th>\n",
       "      <th>credit_score</th>\n",
       "      <th>geography</th>\n",
       "      <th>gender</th>\n",
       "      <th>age</th>\n",
       "      <th>tenure</th>\n",
       "      <th>balance</th>\n",
       "      <th>num_of_products</th>\n",
       "      <th>has_cr_card</th>\n",
       "      <th>is_active_member</th>\n",
       "      <th>estimated_salary</th>\n",
       "      <th>exited</th>\n",
       "    </tr>\n",
       "  </thead>\n",
       "  <tbody>\n",
       "    <tr>\n",
       "      <th>0</th>\n",
       "      <td>1</td>\n",
       "      <td>15634602</td>\n",
       "      <td>Hargrave</td>\n",
       "      <td>619</td>\n",
       "      <td>France</td>\n",
       "      <td>Female</td>\n",
       "      <td>42</td>\n",
       "      <td>2.0</td>\n",
       "      <td>0.00</td>\n",
       "      <td>1</td>\n",
       "      <td>1</td>\n",
       "      <td>1</td>\n",
       "      <td>101348.88</td>\n",
       "      <td>1</td>\n",
       "    </tr>\n",
       "    <tr>\n",
       "      <th>1</th>\n",
       "      <td>2</td>\n",
       "      <td>15647311</td>\n",
       "      <td>Hill</td>\n",
       "      <td>608</td>\n",
       "      <td>Spain</td>\n",
       "      <td>Female</td>\n",
       "      <td>41</td>\n",
       "      <td>1.0</td>\n",
       "      <td>83807.86</td>\n",
       "      <td>1</td>\n",
       "      <td>0</td>\n",
       "      <td>1</td>\n",
       "      <td>112542.58</td>\n",
       "      <td>0</td>\n",
       "    </tr>\n",
       "    <tr>\n",
       "      <th>2</th>\n",
       "      <td>3</td>\n",
       "      <td>15619304</td>\n",
       "      <td>Onio</td>\n",
       "      <td>502</td>\n",
       "      <td>France</td>\n",
       "      <td>Female</td>\n",
       "      <td>42</td>\n",
       "      <td>8.0</td>\n",
       "      <td>159660.80</td>\n",
       "      <td>3</td>\n",
       "      <td>1</td>\n",
       "      <td>0</td>\n",
       "      <td>113931.57</td>\n",
       "      <td>1</td>\n",
       "    </tr>\n",
       "    <tr>\n",
       "      <th>3</th>\n",
       "      <td>4</td>\n",
       "      <td>15701354</td>\n",
       "      <td>Boni</td>\n",
       "      <td>699</td>\n",
       "      <td>France</td>\n",
       "      <td>Female</td>\n",
       "      <td>39</td>\n",
       "      <td>1.0</td>\n",
       "      <td>0.00</td>\n",
       "      <td>2</td>\n",
       "      <td>0</td>\n",
       "      <td>0</td>\n",
       "      <td>93826.63</td>\n",
       "      <td>0</td>\n",
       "    </tr>\n",
       "    <tr>\n",
       "      <th>4</th>\n",
       "      <td>5</td>\n",
       "      <td>15737888</td>\n",
       "      <td>Mitchell</td>\n",
       "      <td>850</td>\n",
       "      <td>Spain</td>\n",
       "      <td>Female</td>\n",
       "      <td>43</td>\n",
       "      <td>2.0</td>\n",
       "      <td>125510.82</td>\n",
       "      <td>1</td>\n",
       "      <td>1</td>\n",
       "      <td>1</td>\n",
       "      <td>79084.10</td>\n",
       "      <td>0</td>\n",
       "    </tr>\n",
       "  </tbody>\n",
       "</table>\n",
       "</div>"
      ],
      "text/plain": [
       "   row_number  customer_id   surname  credit_score geography  gender  age  \\\n",
       "0           1     15634602  Hargrave           619    France  Female   42   \n",
       "1           2     15647311      Hill           608     Spain  Female   41   \n",
       "2           3     15619304      Onio           502    France  Female   42   \n",
       "3           4     15701354      Boni           699    France  Female   39   \n",
       "4           5     15737888  Mitchell           850     Spain  Female   43   \n",
       "\n",
       "   tenure    balance  num_of_products  has_cr_card  is_active_member  \\\n",
       "0     2.0       0.00                1            1                 1   \n",
       "1     1.0   83807.86                1            0                 1   \n",
       "2     8.0  159660.80                3            1                 0   \n",
       "3     1.0       0.00                2            0                 0   \n",
       "4     2.0  125510.82                1            1                 1   \n",
       "\n",
       "   estimated_salary  exited  \n",
       "0         101348.88       1  \n",
       "1         112542.58       0  \n",
       "2         113931.57       1  \n",
       "3          93826.63       0  \n",
       "4          79084.10       0  "
      ]
     },
     "execution_count": 6,
     "metadata": {},
     "output_type": "execute_result"
    }
   ],
   "source": [
    "# Função para converter camelCase para snake_case\n",
    "def camel_to_snake(name):\n",
    "    import re\n",
    "    s1 = re.sub('(.)([A-Z][a-z]+)', r'\\1_\\2', name)\n",
    "    return re.sub('([a-z0-9])([A-Z])', r'\\1_\\2', s1).lower()\n",
    "\n",
    "\n",
    "# Converter os nomes das colunas\n",
    "df.columns = [camel_to_snake(col) for col in df.columns]\n",
    "\n",
    "df.head()"
   ]
  },
  {
   "cell_type": "markdown",
   "metadata": {},
   "source": [
    "<div class=\"alert alert-block alert-danger\">\n",
    "<b> Comentário do revisor: </b> <a class=\"tocSkip\"></a>\n",
    "    \n",
    "- Aqui você precisa converter os nomes das colunas para seguir a convenção `snake_case`\n",
    "    \n",
    "</div>"
   ]
  },
  {
   "cell_type": "markdown",
   "metadata": {},
   "source": [
    "<div class=\"alert alert-block alert-info\">\n",
    "<b>Resposta do Aluno.</b> <a class=\"tocSkip\"></a>\n",
    "\n",
    "Nomes de colunas alteradas para snake_case\n",
    "</div>"
   ]
  },
  {
   "cell_type": "markdown",
   "metadata": {},
   "source": [
    "### Verificando Dados Faltantes"
   ]
  },
  {
   "cell_type": "markdown",
   "metadata": {},
   "source": [
    "Foi verificada a existência de dados faltantes no dataframe, mais especificamente na coluna `tenure`.\n",
    "\n",
    "Estes dados serão tratados após a divisão dos dados para treinamento, teste e validação de modelos."
   ]
  },
  {
   "cell_type": "code",
   "execution_count": 7,
   "metadata": {},
   "outputs": [
    {
     "name": "stdout",
     "output_type": "stream",
     "text": [
      "Valores faltantes na coluna 'Tenure' antes do tratamento:\n",
      "909\n"
     ]
    }
   ],
   "source": [
    "# Mostrar a contagem de valores faltantes na coluna Tenure antes do tratamento\n",
    "print(\"Valores faltantes na coluna 'Tenure' antes do tratamento:\")\n",
    "print(df['tenure'].isnull().sum())"
   ]
  },
  {
   "cell_type": "markdown",
   "metadata": {},
   "source": [
    "<div class=\"alert alert-block alert-danger\">\n",
    "<b> Comentário do revisor: </b> <a class=\"tocSkip\"></a>\n",
    "\n",
    "Você precisa fazer essa imputação de valores **após** o split dos dados para evitar vazamento de dados (\"data leakage\"). Pense no que acontece quando você faz o preenchimento com a média antes de dividir os dados. Lembre-se que os dados de teste não devem fazer parte de nenhuma etapa do processo de treinamento, somente da avaliação final **do melhor modelo**. Uma outra sugestão é preencher esse atributo com um valor que não seja inferido a partir de **todo o conjunto de dados** (por exemplo, um valor indicativo, como `-1`)\n",
    "    \n",
    "<br>\n",
    "    \n",
    "Referência: https://medium.com/the-modern-scientist/navigating-the-pitfalls-of-data-leakage-in-imputing-missing-values-351091a3963e\n",
    "\n",
    "</div>"
   ]
  },
  {
   "cell_type": "markdown",
   "metadata": {},
   "source": [
    "<div class=\"alert alert-block alert-info\">\n",
    "<b>Resposta do Aluno.</b> <a class=\"tocSkip\"></a>\n",
    "\n",
    "Desfeita a inputação de dados faltantes nesta etapa da análise.\n",
    "</div>"
   ]
  },
  {
   "cell_type": "markdown",
   "metadata": {},
   "source": [
    "## Examinar o Equilíbrio de Classe"
   ]
  },
  {
   "cell_type": "code",
   "execution_count": 8,
   "metadata": {},
   "outputs": [
    {
     "data": {
      "image/png": "[encoded data removed]",
      "text/plain": [
       "<Figure size 640x480 with 1 Axes>"
      ]
     },
     "metadata": {},
     "output_type": "display_data"
    },
    {
     "name": "stdout",
     "output_type": "stream",
     "text": [
      "exited\n",
      "0    7963\n",
      "1    2037\n",
      "Name: count, dtype: int64\n"
     ]
    }
   ],
   "source": [
    "# Verificar a distribuição da variável alvo\n",
    "sns.countplot(x='exited', data=df)\n",
    "plt.title('Distribuição das Classes na Variável Alvo (Exited)')\n",
    "plt.xlabel('Exited')\n",
    "plt.ylabel('Contagem')\n",
    "plt.show()\n",
    "\n",
    "# Mostrar a contagem de cada classe\n",
    "print(df['exited'].value_counts())"
   ]
  },
  {
   "cell_type": "markdown",
   "metadata": {},
   "source": [
    "A variável Exited é desbalanceada, com a maioria dos clientes não tendo saído (classe 0) e uma menor quantidade tendo saído (classe 1)."
   ]
  },
  {
   "cell_type": "markdown",
   "metadata": {},
   "source": [
    "## Pré-Processamento dos Dados"
   ]
  },
  {
   "cell_type": "code",
   "execution_count": 9,
   "metadata": {},
   "outputs": [],
   "source": [
    "# Codificar variáveis categóricas\n",
    "df = pd.get_dummies(df, columns=['geography', 'gender'], drop_first=True)\n",
    "\n",
    "# Remover colunas irrelevantes\n",
    "df.drop(columns=['row_number', 'customer_id', 'surname'], inplace=True)\n",
    "\n",
    "# Separar variáveis independentes (X) e dependente (y)\n",
    "X = df.drop(columns=['exited'])\n",
    "y = df['exited']"
   ]
  },
  {
   "cell_type": "markdown",
   "metadata": {},
   "source": [
    "### Dividir os Dados em Conjuntos de Treinamento, Validação e Teste"
   ]
  },
  {
   "cell_type": "markdown",
   "metadata": {},
   "source": [
    "#### Divisão de Conjuntos"
   ]
  },
  {
   "cell_type": "code",
   "execution_count": 10,
   "metadata": {},
   "outputs": [
    {
     "name": "stdout",
     "output_type": "stream",
     "text": [
      "Tamanho do conjunto de treinamento: 6000\n",
      "Tamanho do conjunto de validação: 2000\n",
      "Tamanho do conjunto de teste: 2000\n"
     ]
    }
   ],
   "source": [
    "# Dividir os dados em conjuntos de treinamento e teste (80% treinamento, 20% teste)\n",
    "X_train_full, X_test, y_train_full, y_test = train_test_split(\n",
    "    X, y, test_size=0.2, random_state=1234, stratify=y)\n",
    "\n",
    "# Dividir o conjunto de treinamento em treinamento e validação (75% treinamento, 25% validação)\n",
    "X_train, X_val, y_train, y_val = train_test_split(\n",
    "    X_train_full, y_train_full, test_size=0.25, random_state=1234, stratify=y_train_full)\n",
    "\n",
    "# Verificar os tamanhos dos conjuntos\n",
    "print(f\"Tamanho do conjunto de treinamento: {X_train.shape[0]}\")\n",
    "print(f\"Tamanho do conjunto de validação: {X_val.shape[0]}\")\n",
    "print(f\"Tamanho do conjunto de teste: {X_test.shape[0]}\")"
   ]
  },
  {
   "cell_type": "markdown",
   "metadata": {},
   "source": [
    "OBS: Foi utilizado o `stratify=y` para garantir uma divisão equilibrada das classes entre os conjuntos de treinamento e teste, o que pode ser particularmente útil em conjuntos de dados desbalanceados."
   ]
  },
  {
   "cell_type": "markdown",
   "metadata": {},
   "source": [
    "#### Tratamento de Dados Faltantes em Cada Conjunto Individualmente"
   ]
  },
  {
   "cell_type": "markdown",
   "metadata": {},
   "source": [
    "Utilizada a abordagem de preencher os valores faltantes de \"Tenure\" individualmente em cada conjunto de treino, validação e teste usando a mediana da coluna, que é uma técnica robusta e comum para lidar com valores faltantes por não ser influenciada por valores extremos (outliers)."
   ]
  },
  {
   "cell_type": "code",
   "execution_count": 11,
   "metadata": {},
   "outputs": [],
   "source": [
    "# Imputar valores ausentes pela mediana\n",
    "imputer = SimpleImputer(strategy='median')\n",
    "X_train = imputer.fit_transform(X_train)\n",
    "X_val = imputer.transform(X_val)\n",
    "X_test = imputer.transform(X_test)"
   ]
  },
  {
   "cell_type": "markdown",
   "metadata": {},
   "source": [
    "#### Normalizar Escala de Dados"
   ]
  },
  {
   "cell_type": "code",
   "execution_count": 12,
   "metadata": {},
   "outputs": [],
   "source": [
    "# Escalar os dados\n",
    "scaler = StandardScaler()\n",
    "X_train = scaler.fit_transform(X_train)\n",
    "X_val = scaler.transform(X_val)\n",
    "X_test = scaler.transform(X_test)"
   ]
  },
  {
   "cell_type": "markdown",
   "metadata": {},
   "source": [
    "<div class=\"alert alert-block alert-danger\">\n",
    "<b> Comentário do revisor: </b> <a class=\"tocSkip\"></a>\n",
    "\n",
    "- Aqui você precisa dividir o seu conjunto de dados em `treino`, `validação` e `teste`. O conjunto de validação deve ser utilizado para fazer o estudo de hiperparâmetros dos modelos analisados e técnicas para lidar com desbalanceamento dos dados. Por fim, o conjunto de teste deve ser usado **somente para validação final do melhor modelo** encontrado nessa etapa de estudo\n",
    "- Vamos validar essa etapa após os ajustes na imputação de dados.\n",
    "</div>"
   ]
  },
  {
   "cell_type": "markdown",
   "metadata": {},
   "source": [
    "<div class=\"alert alert-block alert-info\">\n",
    "<b>Resposta do Aluno.</b> <a class=\"tocSkip\"></a>\n",
    "\n",
    "Conjunto de dados divididos em treino, validação e teste.\n",
    "\n",
    "Feito o tratamento dos dados faltantes após a divisão dos conjuntos.\n",
    "</div>"
   ]
  },
  {
   "cell_type": "markdown",
   "metadata": {},
   "source": [
    "### Treinar um Modelo Inicial"
   ]
  },
  {
   "cell_type": "markdown",
   "metadata": {},
   "source": [
    "#### Treinar Modelo Inicial"
   ]
  },
  {
   "cell_type": "code",
   "execution_count": 13,
   "metadata": {},
   "outputs": [
    {
     "data": {
      "text/html": [
       "<style>#sk-container-id-1 {\n",
       "  /* Definition of color scheme common for light and dark mode */\n",
       "  --sklearn-color-text: black;\n",
       "  --sklearn-color-line: gray;\n",
       "  /* Definition of color scheme for unfitted estimators */\n",
       "  --sklearn-color-unfitted-level-0: #fff5e6;\n",
       "  --sklearn-color-unfitted-level-1: #f6e4d2;\n",
       "  --sklearn-color-unfitted-level-2: #ffe0b3;\n",
       "  --sklearn-color-unfitted-level-3: chocolate;\n",
       "  /* Definition of color scheme for fitted estimators */\n",
       "  --sklearn-color-fitted-level-0: #f0f8ff;\n",
       "  --sklearn-color-fitted-level-1: #d4ebff;\n",
       "  --sklearn-color-fitted-level-2: #b3dbfd;\n",
       "  --sklearn-color-fitted-level-3: cornflowerblue;\n",
       "\n",
       "  /* Specific color for light theme */\n",
       "  --sklearn-color-text-on-default-background: var(--sg-text-color, var(--theme-code-foreground, var(--jp-content-font-color1, black)));\n",
       "  --sklearn-color-background: var(--sg-background-color, var(--theme-background, var(--jp-layout-color0, white)));\n",
       "  --sklearn-color-border-box: var(--sg-text-color, var(--theme-code-foreground, var(--jp-content-font-color1, black)));\n",
       "  --sklearn-color-icon: #696969;\n",
       "\n",
       "  @media (prefers-color-scheme: dark) {\n",
       "    /* Redefinition of color scheme for dark theme */\n",
       "    --sklearn-color-text-on-default-background: var(--sg-text-color, var(--theme-code-foreground, var(--jp-content-font-color1, white)));\n",
       "    --sklearn-color-background: var(--sg-background-color, var(--theme-background, var(--jp-layout-color0, #111)));\n",
       "    --sklearn-color-border-box: var(--sg-text-color, var(--theme-code-foreground, var(--jp-content-font-color1, white)));\n",
       "    --sklearn-color-icon: #878787;\n",
       "  }\n",
       "}\n",
       "\n",
       "#sk-container-id-1 {\n",
       "  color: var(--sklearn-color-text);\n",
       "}\n",
       "\n",
       "#sk-container-id-1 pre {\n",
       "  padding: 0;\n",
       "}\n",
       "\n",
       "#sk-container-id-1 input.sk-hidden--visually {\n",
       "  border: 0;\n",
       "  clip: rect(1px 1px 1px 1px);\n",
       "  clip: rect(1px, 1px, 1px, 1px);\n",
       "  height: 1px;\n",
       "  margin: -1px;\n",
       "  overflow: hidden;\n",
       "  padding: 0;\n",
       "  position: absolute;\n",
       "  width: 1px;\n",
       "}\n",
       "\n",
       "#sk-container-id-1 div.sk-dashed-wrapped {\n",
       "  border: 1px dashed var(--sklearn-color-line);\n",
       "  margin: 0 0.4em 0.5em 0.4em;\n",
       "  box-sizing: border-box;\n",
       "  padding-bottom: 0.4em;\n",
       "  background-color: var(--sklearn-color-background);\n",
       "}\n",
       "\n",
       "#sk-container-id-1 div.sk-container {\n",
       "  /* jupyter's `normalize.less` sets `[hidden] { display: none; }`\n",
       "     but bootstrap.min.css set `[hidden] { display: none !important; }`\n",
       "     so we also need the `!important` here to be able to override the\n",
       "     default hidden behavior on the sphinx rendered scikit-learn.org.\n",
       "     See: https://github.com/scikit-learn/scikit-learn/issues/21755 */\n",
       "  display: inline-block !important;\n",
       "  position: relative;\n",
       "}\n",
       "\n",
       "#sk-container-id-1 div.sk-text-repr-fallback {\n",
       "  display: none;\n",
       "}\n",
       "\n",
       "div.sk-parallel-item,\n",
       "div.sk-serial,\n",
       "div.sk-item {\n",
       "  /* draw centered vertical line to link estimators */\n",
       "  background-image: linear-gradient(var(--sklearn-color-text-on-default-background), var(--sklearn-color-text-on-default-background));\n",
       "  background-size: 2px 100%;\n",
       "  background-repeat: no-repeat;\n",
       "  background-position: center center;\n",
       "}\n",
       "\n",
       "/* Parallel-specific style estimator block */\n",
       "\n",
       "#sk-container-id-1 div.sk-parallel-item::after {\n",
       "  content: \"\";\n",
       "  width: 100%;\n",
       "  border-bottom: 2px solid var(--sklearn-color-text-on-default-background);\n",
       "  flex-grow: 1;\n",
       "}\n",
       "\n",
       "#sk-container-id-1 div.sk-parallel {\n",
       "  display: flex;\n",
       "  align-items: stretch;\n",
       "  justify-content: center;\n",
       "  background-color: var(--sklearn-color-background);\n",
       "  position: relative;\n",
       "}\n",
       "\n",
       "#sk-container-id-1 div.sk-parallel-item {\n",
       "  display: flex;\n",
       "  flex-direction: column;\n",
       "}\n",
       "\n",
       "#sk-container-id-1 div.sk-parallel-item:first-child::after {\n",
       "  align-self: flex-end;\n",
       "  width: 50%;\n",
       "}\n",
       "\n",
       "#sk-container-id-1 div.sk-parallel-item:last-child::after {\n",
       "  align-self: flex-start;\n",
       "  width: 50%;\n",
       "}\n",
       "\n",
       "#sk-container-id-1 div.sk-parallel-item:only-child::after {\n",
       "  width: 0;\n",
       "}\n",
       "\n",
       "/* Serial-specific style estimator block */\n",
       "\n",
       "#sk-container-id-1 div.sk-serial {\n",
       "  display: flex;\n",
       "  flex-direction: column;\n",
       "  align-items: center;\n",
       "  background-color: var(--sklearn-color-background);\n",
       "  padding-right: 1em;\n",
       "  padding-left: 1em;\n",
       "}\n",
       "\n",
       "\n",
       "/* Toggleable style: style used for estimator/Pipeline/ColumnTransformer box that is\n",
       "clickable and can be expanded/collapsed.\n",
       "- Pipeline and ColumnTransformer use this feature and define the default style\n",
       "- Estimators will overwrite some part of the style using the `sk-estimator` class\n",
       "*/\n",
       "\n",
       "/* Pipeline and ColumnTransformer style (default) */\n",
       "\n",
       "#sk-container-id-1 div.sk-toggleable {\n",
       "  /* Default theme specific background. It is overwritten whether we have a\n",
       "  specific estimator or a Pipeline/ColumnTransformer */\n",
       "  background-color: var(--sklearn-color-background);\n",
       "}\n",
       "\n",
       "/* Toggleable label */\n",
       "#sk-container-id-1 label.sk-toggleable__label {\n",
       "  cursor: pointer;\n",
       "  display: block;\n",
       "  width: 100%;\n",
       "  margin-bottom: 0;\n",
       "  padding: 0.5em;\n",
       "  box-sizing: border-box;\n",
       "  text-align: center;\n",
       "}\n",
       "\n",
       "#sk-container-id-1 label.sk-toggleable__label-arrow:before {\n",
       "  /* Arrow on the left of the label */\n",
       "  content: \"▸\";\n",
       "  float: left;\n",
       "  margin-right: 0.25em;\n",
       "  color: var(--sklearn-color-icon);\n",
       "}\n",
       "\n",
       "#sk-container-id-1 label.sk-toggleable__label-arrow:hover:before {\n",
       "  color: var(--sklearn-color-text);\n",
       "}\n",
       "\n",
       "/* Toggleable content - dropdown */\n",
       "\n",
       "#sk-container-id-1 div.sk-toggleable__content {\n",
       "  max-height: 0;\n",
       "  max-width: 0;\n",
       "  overflow: hidden;\n",
       "  text-align: left;\n",
       "  /* unfitted */\n",
       "  background-color: var(--sklearn-color-unfitted-level-0);\n",
       "}\n",
       "\n",
       "#sk-container-id-1 div.sk-toggleable__content.fitted {\n",
       "  /* fitted */\n",
       "  background-color: var(--sklearn-color-fitted-level-0);\n",
       "}\n",
       "\n",
       "#sk-container-id-1 div.sk-toggleable__content pre {\n",
       "  margin: 0.2em;\n",
       "  border-radius: 0.25em;\n",
       "  color: var(--sklearn-color-text);\n",
       "  /* unfitted */\n",
       "  background-color: var(--sklearn-color-unfitted-level-0);\n",
       "}\n",
       "\n",
       "#sk-container-id-1 div.sk-toggleable__content.fitted pre {\n",
       "  /* unfitted */\n",
       "  background-color: var(--sklearn-color-fitted-level-0);\n",
       "}\n",
       "\n",
       "#sk-container-id-1 input.sk-toggleable__control:checked~div.sk-toggleable__content {\n",
       "  /* Expand drop-down */\n",
       "  max-height: 200px;\n",
       "  max-width: 100%;\n",
       "  overflow: auto;\n",
       "}\n",
       "\n",
       "#sk-container-id-1 input.sk-toggleable__control:checked~label.sk-toggleable__label-arrow:before {\n",
       "  content: \"▾\";\n",
       "}\n",
       "\n",
       "/* Pipeline/ColumnTransformer-specific style */\n",
       "\n",
       "#sk-container-id-1 div.sk-label input.sk-toggleable__control:checked~label.sk-toggleable__label {\n",
       "  color: var(--sklearn-color-text);\n",
       "  background-color: var(--sklearn-color-unfitted-level-2);\n",
       "}\n",
       "\n",
       "#sk-container-id-1 div.sk-label.fitted input.sk-toggleable__control:checked~label.sk-toggleable__label {\n",
       "  background-color: var(--sklearn-color-fitted-level-2);\n",
       "}\n",
       "\n",
       "/* Estimator-specific style */\n",
       "\n",
       "/* Colorize estimator box */\n",
       "#sk-container-id-1 div.sk-estimator input.sk-toggleable__control:checked~label.sk-toggleable__label {\n",
       "  /* unfitted */\n",
       "  background-color: var(--sklearn-color-unfitted-level-2);\n",
       "}\n",
       "\n",
       "#sk-container-id-1 div.sk-estimator.fitted input.sk-toggleable__control:checked~label.sk-toggleable__label {\n",
       "  /* fitted */\n",
       "  background-color: var(--sklearn-color-fitted-level-2);\n",
       "}\n",
       "\n",
       "#sk-container-id-1 div.sk-label label.sk-toggleable__label,\n",
       "#sk-container-id-1 div.sk-label label {\n",
       "  /* The background is the default theme color */\n",
       "  color: var(--sklearn-color-text-on-default-background);\n",
       "}\n",
       "\n",
       "/* On hover, darken the color of the background */\n",
       "#sk-container-id-1 div.sk-label:hover label.sk-toggleable__label {\n",
       "  color: var(--sklearn-color-text);\n",
       "  background-color: var(--sklearn-color-unfitted-level-2);\n",
       "}\n",
       "\n",
       "/* Label box, darken color on hover, fitted */\n",
       "#sk-container-id-1 div.sk-label.fitted:hover label.sk-toggleable__label.fitted {\n",
       "  color: var(--sklearn-color-text);\n",
       "  background-color: var(--sklearn-color-fitted-level-2);\n",
       "}\n",
       "\n",
       "/* Estimator label */\n",
       "\n",
       "#sk-container-id-1 div.sk-label label {\n",
       "  font-family: monospace;\n",
       "  font-weight: bold;\n",
       "  display: inline-block;\n",
       "  line-height: 1.2em;\n",
       "}\n",
       "\n",
       "#sk-container-id-1 div.sk-label-container {\n",
       "  text-align: center;\n",
       "}\n",
       "\n",
       "/* Estimator-specific */\n",
       "#sk-container-id-1 div.sk-estimator {\n",
       "  font-family: monospace;\n",
       "  border: 1px dotted var(--sklearn-color-border-box);\n",
       "  border-radius: 0.25em;\n",
       "  box-sizing: border-box;\n",
       "  margin-bottom: 0.5em;\n",
       "  /* unfitted */\n",
       "  background-color: var(--sklearn-color-unfitted-level-0);\n",
       "}\n",
       "\n",
       "#sk-container-id-1 div.sk-estimator.fitted {\n",
       "  /* fitted */\n",
       "  background-color: var(--sklearn-color-fitted-level-0);\n",
       "}\n",
       "\n",
       "/* on hover */\n",
       "#sk-container-id-1 div.sk-estimator:hover {\n",
       "  /* unfitted */\n",
       "  background-color: var(--sklearn-color-unfitted-level-2);\n",
       "}\n",
       "\n",
       "#sk-container-id-1 div.sk-estimator.fitted:hover {\n",
       "  /* fitted */\n",
       "  background-color: var(--sklearn-color-fitted-level-2);\n",
       "}\n",
       "\n",
       "/* Specification for estimator info (e.g. \"i\" and \"?\") */\n",
       "\n",
       "/* Common style for \"i\" and \"?\" */\n",
       "\n",
       ".sk-estimator-doc-link,\n",
       "a:link.sk-estimator-doc-link,\n",
       "a:visited.sk-estimator-doc-link {\n",
       "  float: right;\n",
       "  font-size: smaller;\n",
       "  line-height: 1em;\n",
       "  font-family: monospace;\n",
       "  background-color: var(--sklearn-color-background);\n",
       "  border-radius: 1em;\n",
       "  height: 1em;\n",
       "  width: 1em;\n",
       "  text-decoration: none !important;\n",
       "  margin-left: 1ex;\n",
       "  /* unfitted */\n",
       "  border: var(--sklearn-color-unfitted-level-1) 1pt solid;\n",
       "  color: var(--sklearn-color-unfitted-level-1);\n",
       "}\n",
       "\n",
       ".sk-estimator-doc-link.fitted,\n",
       "a:link.sk-estimator-doc-link.fitted,\n",
       "a:visited.sk-estimator-doc-link.fitted {\n",
       "  /* fitted */\n",
       "  border: var(--sklearn-color-fitted-level-1) 1pt solid;\n",
       "  color: var(--sklearn-color-fitted-level-1);\n",
       "}\n",
       "\n",
       "/* On hover */\n",
       "div.sk-estimator:hover .sk-estimator-doc-link:hover,\n",
       ".sk-estimator-doc-link:hover,\n",
       "div.sk-label-container:hover .sk-estimator-doc-link:hover,\n",
       ".sk-estimator-doc-link:hover {\n",
       "  /* unfitted */\n",
       "  background-color: var(--sklearn-color-unfitted-level-3);\n",
       "  color: var(--sklearn-color-background);\n",
       "  text-decoration: none;\n",
       "}\n",
       "\n",
       "div.sk-estimator.fitted:hover .sk-estimator-doc-link.fitted:hover,\n",
       ".sk-estimator-doc-link.fitted:hover,\n",
       "div.sk-label-container:hover .sk-estimator-doc-link.fitted:hover,\n",
       ".sk-estimator-doc-link.fitted:hover {\n",
       "  /* fitted */\n",
       "  background-color: var(--sklearn-color-fitted-level-3);\n",
       "  color: var(--sklearn-color-background);\n",
       "  text-decoration: none;\n",
       "}\n",
       "\n",
       "/* Span, style for the box shown on hovering the info icon */\n",
       ".sk-estimator-doc-link span {\n",
       "  display: none;\n",
       "  z-index: 9999;\n",
       "  position: relative;\n",
       "  font-weight: normal;\n",
       "  right: .2ex;\n",
       "  padding: .5ex;\n",
       "  margin: .5ex;\n",
       "  width: min-content;\n",
       "  min-width: 20ex;\n",
       "  max-width: 50ex;\n",
       "  color: var(--sklearn-color-text);\n",
       "  box-shadow: 2pt 2pt 4pt #999;\n",
       "  /* unfitted */\n",
       "  background: var(--sklearn-color-unfitted-level-0);\n",
       "  border: .5pt solid var(--sklearn-color-unfitted-level-3);\n",
       "}\n",
       "\n",
       ".sk-estimator-doc-link.fitted span {\n",
       "  /* fitted */\n",
       "  background: var(--sklearn-color-fitted-level-0);\n",
       "  border: var(--sklearn-color-fitted-level-3);\n",
       "}\n",
       "\n",
       ".sk-estimator-doc-link:hover span {\n",
       "  display: block;\n",
       "}\n",
       "\n",
       "/* \"?\"-specific style due to the `<a>` HTML tag */\n",
       "\n",
       "#sk-container-id-1 a.estimator_doc_link {\n",
       "  float: right;\n",
       "  font-size: 1rem;\n",
       "  line-height: 1em;\n",
       "  font-family: monospace;\n",
       "  background-color: var(--sklearn-color-background);\n",
       "  border-radius: 1rem;\n",
       "  height: 1rem;\n",
       "  width: 1rem;\n",
       "  text-decoration: none;\n",
       "  /* unfitted */\n",
       "  color: var(--sklearn-color-unfitted-level-1);\n",
       "  border: var(--sklearn-color-unfitted-level-1) 1pt solid;\n",
       "}\n",
       "\n",
       "#sk-container-id-1 a.estimator_doc_link.fitted {\n",
       "  /* fitted */\n",
       "  border: var(--sklearn-color-fitted-level-1) 1pt solid;\n",
       "  color: var(--sklearn-color-fitted-level-1);\n",
       "}\n",
       "\n",
       "/* On hover */\n",
       "#sk-container-id-1 a.estimator_doc_link:hover {\n",
       "  /* unfitted */\n",
       "  background-color: var(--sklearn-color-unfitted-level-3);\n",
       "  color: var(--sklearn-color-background);\n",
       "  text-decoration: none;\n",
       "}\n",
       "\n",
       "#sk-container-id-1 a.estimator_doc_link.fitted:hover {\n",
       "  /* fitted */\n",
       "  background-color: var(--sklearn-color-fitted-level-3);\n",
       "}\n",
       "</style><div id=\"sk-container-id-1\" class=\"sk-top-container\"><div class=\"sk-text-repr-fallback\"><pre>LogisticRegression(max_iter=1000, solver=&#x27;liblinear&#x27;)</pre><b>In a Jupyter environment, please rerun this cell to show the HTML representation or trust the notebook. <br />On GitHub, the HTML representation is unable to render, please try loading this page with nbviewer.org.</b></div><div class=\"sk-container\" hidden><div class=\"sk-item\"><div class=\"sk-estimator fitted sk-toggleable\"><input class=\"sk-toggleable__control sk-hidden--visually\" id=\"sk-estimator-id-1\" type=\"checkbox\" checked><label for=\"sk-estimator-id-1\" class=\"sk-toggleable__label fitted sk-toggleable__label-arrow fitted\">&nbsp;&nbsp;LogisticRegression<a class=\"sk-estimator-doc-link fitted\" rel=\"noreferrer\" target=\"_blank\" href=\"https://scikit-learn.org/1.4/modules/generated/sklearn.linear_model.LogisticRegression.html\">?<span>Documentation for LogisticRegression</span></a><span class=\"sk-estimator-doc-link fitted\">i<span>Fitted</span></span></label><div class=\"sk-toggleable__content fitted\"><pre>LogisticRegression(max_iter=1000, solver=&#x27;liblinear&#x27;)</pre></div> </div></div></div></div>"
      ],
      "text/plain": [
       "LogisticRegression(max_iter=1000, solver='liblinear')"
      ]
     },
     "execution_count": 13,
     "metadata": {},
     "output_type": "execute_result"
    }
   ],
   "source": [
    "# Treinar um modelo de regressão logística\n",
    "model = LogisticRegression(solver='liblinear', max_iter=1000)\n",
    "model.fit(X_train, y_train)"
   ]
  },
  {
   "cell_type": "markdown",
   "metadata": {},
   "source": [
    "### Avaliar o Modelo Inicial"
   ]
  },
  {
   "cell_type": "code",
   "execution_count": 14,
   "metadata": {},
   "outputs": [
    {
     "name": "stdout",
     "output_type": "stream",
     "text": [
      "\n",
      "Avaliação no conjunto de validação:\n",
      "Matriz de Confusão:\n",
      "[[1545   47]\n",
      " [ 319   89]]\n",
      "\n",
      "Relatório de Classificação:\n",
      "              precision    recall  f1-score   support\n",
      "\n",
      "           0       0.83      0.97      0.89      1592\n",
      "           1       0.65      0.22      0.33       408\n",
      "\n",
      "    accuracy                           0.82      2000\n",
      "   macro avg       0.74      0.59      0.61      2000\n",
      "weighted avg       0.79      0.82      0.78      2000\n",
      "\n",
      "\n",
      "Acurácia:\n",
      "0.817\n"
     ]
    }
   ],
   "source": [
    "# Fazer previsões no conjunto de validação\n",
    "y_val_pred = model.predict(X_val)\n",
    "\n",
    "# Avaliar o desempenho do modelo no conjunto de validação\n",
    "print(\"\\nAvaliação no conjunto de validação:\")\n",
    "print(\"Matriz de Confusão:\")\n",
    "print(confusion_matrix(y_val, y_val_pred))\n",
    "\n",
    "print(\"\\nRelatório de Classificação:\")\n",
    "print(classification_report(y_val, y_val_pred))\n",
    "\n",
    "print(\"\\nAcurácia:\")\n",
    "print(accuracy_score(y_val, y_val_pred))"
   ]
  },
  {
   "cell_type": "markdown",
   "metadata": {},
   "source": [
    "#### Conclusões Sobre o Modelo Inicial"
   ]
  },
  {
   "cell_type": "markdown",
   "metadata": {},
   "source": [
    "### Matriz de Confusão:\n",
    "|             | Previsto Não Saiu (0) | Previsto Saiu (1) |\n",
    "|-------------|------------------------|--------------------|\n",
    "| **Não Saiu (0)** | 1545                   | 47                 |\n",
    "| **Saiu (1)**     | 319                    | 89                 |\n",
    "\n",
    "### Relatório de Classificação:\n",
    "| Classe | Precisão | Recall | F1-Score | Suporte |\n",
    "|--------|----------|--------|----------|---------|\n",
    "| 0      | 0.83     | 0.97   | 0.89     | 1592    |\n",
    "| 1      | 0.65     | 0.22   | 0.33     | 408     |\n",
    "\n",
    "- **Acurácia**: 0.817\n",
    "\n",
    "### Interpretação:\n",
    "- **Precisão para a classe 0 (Clientes que não saíram)**: Aproximadamente 83% das previsões de clientes que não saíram estão corretas.\n",
    "- **Recall para a classe 1 (Clientes que saíram)**: Aproximadamente 22% dos clientes que realmente saíram foram corretamente identificados pelo modelo.\n",
    "- **F1-Score**: O F1-score pondera a precisão e o recall. Como o recall é baixo para a classe 1, o F1-score para essa classe também é relativamente baixo.\n",
    "- **Acurácia**: A acurácia geral do modelo é de aproximadamente 81.7%, o que significa que cerca de 81.7% das previsões estão corretas.\n",
    "\n",
    "Esses resultados indicam que o modelo tem uma boa precisão para prever clientes que não saíram, mas um recall baixo para prever clientes que saíram. Isso sugere que o modelo pode ter dificuldade em identificar corretamente os clientes que estão em risco de sair."
   ]
  },
  {
   "cell_type": "markdown",
   "metadata": {},
   "source": [
    "<div class=\"alert alert-block alert-danger\">\n",
    "<b> Comentário do revisor: </b> <a class=\"tocSkip\"></a>\n",
    "\n",
    "Normalizar a escala dos dados é uma etapa muito importante para alguns algoritmos de Aprendizado de Máquina. Vale ressaltar que nem todos os modelos são fortemente influenciados pela escala dos dados, alguns conseguem lidar bem com essa discrepância, como, por exemplo, modelos baseados em árvores. Nesse caso, para o modelo de Regressão Logística, é uma boa prática fazer a normalização dos dados antes de passar para a etapa de treinamento\n",
    "    \n",
    "Segue um link para referência futura sobre o tema: https://towardsdatascience.com/all-about-feature-scaling-bcc0ad75cb35.  \n",
    "    \n",
    "</div>"
   ]
  },
  {
   "cell_type": "markdown",
   "metadata": {},
   "source": [
    "<div class=\"alert alert-block alert-info\">\n",
    "<b>Resposta do Aluno.</b> <a class=\"tocSkip\"></a>\n",
    "\n",
    "Dados foram normalizados.\n",
    "\n",
    "</div>"
   ]
  },
  {
   "cell_type": "markdown",
   "metadata": {},
   "source": [
    "## Resolvendo o Desequilíbrio de Classes"
   ]
  },
  {
   "cell_type": "markdown",
   "metadata": {},
   "source": [
    "Para lidar com o desequilíbrio de classes em um problema de classificação como o de churn, onde temos uma classe minoritária (clientes que saíram) e uma classe majoritária (clientes que não saíram), vamos considerar algumas abordagens e técnicas comuns, tais como:\n",
    "\n",
    "* **Subamostragem (Undersampling) da Classe Majoritária:** Reduzir aleatoriamente o número de amostras da classe majoritária para equilibrar as proporções entre as classes.\n",
    "\n",
    "* **Superamostragem (Oversampling) da Classe Minoritária:** Aumentar aleatoriamente o número de amostras da classe minoritária, muitas vezes usando técnicas como SMOTE (Synthetic Minority Over-sampling Technique), para equilibrar as proporções entre as classes.\n",
    "\n",
    "* **Peso das Classes:** Ajustar os pesos das classes durante o treinamento do modelo para dar mais peso à classe minoritária, usando o parâmetro class_weight='balanced' em alguns algoritmos de classificação, como a regressão logística.\n",
    "\n",
    "* **Métricas de Avaliação Alternativas:** Usar métricas de avaliação que levam em consideração o desequilíbrio de classes, como a área sob a curva ROC (AUC-ROC), a precisão-recall, a F1-score, entre outras.\n",
    "\n",
    "* **Técnicas de Ensemble:** Usar técnicas de ensemble, como o balanceamento de pesos entre os modelos ou o uso de métodos de votação ponderada, para melhorar a capacidade do modelo de lidar com o desequilíbrio de classes."
   ]
  },
  {
   "cell_type": "markdown",
   "metadata": {},
   "source": [
    "### Subamostragem da Classe Majoritária (Undersampling)"
   ]
  },
  {
   "cell_type": "markdown",
   "metadata": {},
   "source": [
    "Para realizar a subamostragem da classe majoritária, vamos reduzir aleatoriamente o número de amostras da classe majoritária para equilibrar as proporções entre as classes. Isso pode ser feito removendo aleatoriamente instâncias da classe majoritária até que as proporções entre as classes estejam equilibradas."
   ]
  },
  {
   "cell_type": "code",
   "execution_count": 15,
   "metadata": {},
   "outputs": [
    {
     "name": "stdout",
     "output_type": "stream",
     "text": [
      "Tamanho do conjunto de treinamento após subamostragem: 2444\n",
      "Tamanho do conjunto de validação após subamostragem: 816\n",
      "\n",
      "Avaliação no conjunto de validação balanceado:\n",
      "Matriz de Confusão:\n",
      "[[295 113]\n",
      " [123 285]]\n",
      "\n",
      "Relatório de Classificação:\n",
      "              precision    recall  f1-score   support\n",
      "\n",
      "           0       0.71      0.72      0.71       408\n",
      "           1       0.72      0.70      0.71       408\n",
      "\n",
      "    accuracy                           0.71       816\n",
      "   macro avg       0.71      0.71      0.71       816\n",
      "weighted avg       0.71      0.71      0.71       816\n",
      "\n",
      "\n",
      "Acurácia:\n",
      "0.7107843137254902\n"
     ]
    }
   ],
   "source": [
    "# Criar o sampler para subamostragem\n",
    "undersampler = RandomUnderSampler(random_state=1234)\n",
    "\n",
    "# Aplicar a subamostragem nos conjuntos de treinamento e validação\n",
    "X_train_resampled, y_train_resampled = undersampler.fit_resample(\n",
    "    X_train, y_train)\n",
    "X_val_resampled, y_val_resampled = undersampler.fit_resample(X_val, y_val)\n",
    "\n",
    "# Imputar valores ausentes nas amostras resampleadas\n",
    "imputer_resampled = SimpleImputer(strategy='median')\n",
    "X_train_resampled = imputer_resampled.fit_transform(X_train_resampled)\n",
    "X_val_resampled = imputer_resampled.transform(X_val_resampled)\n",
    "\n",
    "# Verificar os tamanhos dos conjuntos resampleados\n",
    "print(\n",
    "    f\"Tamanho do conjunto de treinamento após subamostragem: {X_train_resampled.shape[0]}\")\n",
    "print(\n",
    "    f\"Tamanho do conjunto de validação após subamostragem: {X_val_resampled.shape[0]}\")\n",
    "\n",
    "# Treinar um modelo de regressão logística usando os dados balanceados\n",
    "model_resampled = LogisticRegression(solver='liblinear', max_iter=1000)\n",
    "model_resampled.fit(X_train_resampled, y_train_resampled)\n",
    "\n",
    "# Fazer previsões no conjunto de validação balanceado\n",
    "y_val_pred_resampled = model_resampled.predict(X_val_resampled)\n",
    "\n",
    "# Avaliar o desempenho do modelo no conjunto de validação balanceado\n",
    "print(\"\\nAvaliação no conjunto de validação balanceado:\")\n",
    "print(\"Matriz de Confusão:\")\n",
    "print(confusion_matrix(y_val_resampled, y_val_pred_resampled))\n",
    "\n",
    "print(\"\\nRelatório de Classificação:\")\n",
    "print(classification_report(y_val_resampled, y_val_pred_resampled))\n",
    "\n",
    "print(\"\\nAcurácia:\")\n",
    "print(accuracy_score(y_val_resampled, y_val_pred_resampled))"
   ]
  },
  {
   "cell_type": "markdown",
   "metadata": {},
   "source": [
    "#### Conclusões para Undersampling"
   ]
  },
  {
   "cell_type": "markdown",
   "metadata": {},
   "source": [
    "#### Matriz de Confusão\n",
    "|                | Predito: 0 | Predito: 1 |\n",
    "|----------------|------------|------------|\n",
    "| **Real: 0**    | 295        | 113        |\n",
    "| **Real: 1**    | 123        | 285        |\n",
    "\n",
    "#### Relatório de Classificação\n",
    "\n",
    "| Classe | Precision | Recall | F1-score | Support |\n",
    "|--------|-----------|--------|----------|---------|\n",
    "| 0      | 0.71      | 0.72   | 0.71     | 408     |\n",
    "| 1      | 0.72      | 0.70   | 0.71     | 408     |\n",
    "| **Total/Average** | **0.71** | **0.71** | **0.71** | **816**   |\n",
    "\n",
    "#### Acurácia\n",
    "A acurácia geral do modelo no conjunto de validação balanceado é de **71.08%**.\n",
    "\n",
    "### Conclusão\n",
    "O modelo apresenta um desempenho equilibrado para ambas as classes, com métricas de precision, recall e f1-score próximas para as classes 0 e 1. A acurácia de 71.08% indica que o modelo tem um desempenho razoável, embora haja espaço para melhorias, especialmente na redução de falsos positivos e falsos negativos. Isso poderia aumentar a precisão e a confiabilidade geral do modelo."
   ]
  },
  {
   "cell_type": "markdown",
   "metadata": {},
   "source": [
    "### Superamostragem da Classe Minoritária (Oversampling)"
   ]
  },
  {
   "cell_type": "markdown",
   "metadata": {},
   "source": [
    "Para realizar a superamostragem da classe minoritária, vamos aumentar aleatoriamente o número de amostras da classe minoritária para equilibrar as proporções entre as classes. Uma técnica comum de superamostragem é o SMOTE (Synthetic Minority Over-sampling Technique), que cria novas instâncias sintéticas da classe minoritária com base em vizinhos próximos no espaço de recursos."
   ]
  },
  {
   "cell_type": "code",
   "execution_count": 16,
   "metadata": {},
   "outputs": [
    {
     "name": "stdout",
     "output_type": "stream",
     "text": [
      "Tamanho do conjunto de treinamento após superamostragem: 9556\n",
      "Tamanho do conjunto de validação após superamostragem: 3184\n",
      "\n",
      "Avaliação no conjunto de validação balanceado:\n",
      "Matriz de Confusão:\n",
      "[[1168  424]\n",
      " [ 499 1093]]\n",
      "\n",
      "Relatório de Classificação:\n",
      "              precision    recall  f1-score   support\n",
      "\n",
      "           0       0.70      0.73      0.72      1592\n",
      "           1       0.72      0.69      0.70      1592\n",
      "\n",
      "    accuracy                           0.71      3184\n",
      "   macro avg       0.71      0.71      0.71      3184\n",
      "weighted avg       0.71      0.71      0.71      3184\n",
      "\n",
      "\n",
      "Acurácia:\n",
      "0.7101130653266332\n"
     ]
    }
   ],
   "source": [
    "# Criar o sampler para superamostragem\n",
    "oversampler = RandomOverSampler(random_state=1234)\n",
    "\n",
    "# Aplicar a superamostragem nos conjuntos de treinamento e validação\n",
    "X_train_oversampled, y_train_oversampled = oversampler.fit_resample(\n",
    "    X_train, y_train)\n",
    "X_val_oversampled, y_val_oversampled = oversampler.fit_resample(X_val, y_val)\n",
    "\n",
    "# Verificar os tamanhos dos conjuntos oversampleados\n",
    "print(\n",
    "    f\"Tamanho do conjunto de treinamento após superamostragem: {X_train_oversampled.shape[0]}\")\n",
    "print(\n",
    "    f\"Tamanho do conjunto de validação após superamostragem: {X_val_oversampled.shape[0]}\")\n",
    "\n",
    "# Treinar um modelo de regressão logística usando os dados balanceados\n",
    "model_oversampled = LogisticRegression(solver='liblinear', max_iter=1000)\n",
    "model_oversampled.fit(X_train_oversampled, y_train_oversampled)\n",
    "\n",
    "# Fazer previsões no conjunto de validação balanceado\n",
    "y_val_pred_oversampled = model_oversampled.predict(X_val_oversampled)\n",
    "\n",
    "# Avaliar o desempenho do modelo no conjunto de validação balanceado\n",
    "print(\"\\nAvaliação no conjunto de validação balanceado:\")\n",
    "print(\"Matriz de Confusão:\")\n",
    "print(confusion_matrix(y_val_oversampled, y_val_pred_oversampled))\n",
    "\n",
    "print(\"\\nRelatório de Classificação:\")\n",
    "print(classification_report(y_val_oversampled, y_val_pred_oversampled))\n",
    "\n",
    "print(\"\\nAcurácia:\")\n",
    "print(accuracy_score(y_val_oversampled, y_val_pred_oversampled))"
   ]
  },
  {
   "cell_type": "markdown",
   "metadata": {},
   "source": [
    "#### Conclusões para Oversampling"
   ]
  },
  {
   "cell_type": "markdown",
   "metadata": {},
   "source": [
    "#### Matriz de Confusão\n",
    "|                | Predito: 0 | Predito: 1 |\n",
    "|----------------|------------|------------|\n",
    "| **Real: 0**    | 1168       | 424        |\n",
    "| **Real: 1**    | 499        | 1093       |\n",
    "\n",
    "#### Relatório de Classificação\n",
    "\n",
    "| Classe | Precision | Recall | F1-score | Support |\n",
    "|--------|-----------|--------|----------|---------|\n",
    "| 0      | 0.70      | 0.73   | 0.72     | 1592    |\n",
    "| 1      | 0.72      | 0.69   | 0.70     | 1592    |\n",
    "| **Total/Average** | **0.71** | **0.71** | **0.71** | **3184**  |\n",
    "\n",
    "#### Acurácia\n",
    "A acurácia geral do modelo no conjunto de validação balanceado é de **71.01%**.\n",
    "\n",
    "### Conclusão\n",
    "O modelo, após superamostragem, apresenta um desempenho equilibrado para ambas as classes, com métricas de precision, recall e f1-score próximas para as classes 0 e 1. A acurácia de 71.01% indica que o modelo mantém um desempenho razoável e consistente, mesmo com o aumento do conjunto de dados. No entanto, assim como no caso da subamostragem, ainda há espaço para melhorias, especialmente na redução de falsos positivos e falsos negativos, o que pode aumentar a precisão e a confiabilidade geral do modelo."
   ]
  },
  {
   "cell_type": "markdown",
   "metadata": {},
   "source": [
    "### Peso das Classes"
   ]
  },
  {
   "cell_type": "markdown",
   "metadata": {},
   "source": [
    "Para aplicar o peso das classes durante o treinamento do modelo de regressão logística, podemos utilizar o parâmetro class_weight='balanced' quando criamos a instância do modelo. Isso permite que o modelo atribua automaticamente pesos inversamente proporcionais às frequências das classes, de modo que as classes menos representadas tenham mais peso durante o treinamento."
   ]
  },
  {
   "cell_type": "code",
   "execution_count": 17,
   "metadata": {},
   "outputs": [
    {
     "name": "stdout",
     "output_type": "stream",
     "text": [
      "\n",
      "Avaliação no conjunto de validação com pesos de classes balanceados:\n",
      "Matriz de Confusão:\n",
      "[[1169  423]\n",
      " [ 122  286]]\n",
      "\n",
      "Relatório de Classificação:\n",
      "              precision    recall  f1-score   support\n",
      "\n",
      "           0       0.91      0.73      0.81      1592\n",
      "           1       0.40      0.70      0.51       408\n",
      "\n",
      "    accuracy                           0.73      2000\n",
      "   macro avg       0.65      0.72      0.66      2000\n",
      "weighted avg       0.80      0.73      0.75      2000\n",
      "\n",
      "\n",
      "Acurácia:\n",
      "0.7275\n"
     ]
    }
   ],
   "source": [
    "# Treinar um modelo de regressão logística utilizando pesos de classes balanceados\n",
    "model_weighted = LogisticRegression(\n",
    "    solver='liblinear', max_iter=1000, class_weight='balanced')\n",
    "model_weighted.fit(X_train, y_train)\n",
    "\n",
    "# Fazer previsões no conjunto de validação\n",
    "y_val_pred_weighted = model_weighted.predict(X_val)\n",
    "\n",
    "# Avaliar o desempenho do modelo no conjunto de validação\n",
    "print(\"\\nAvaliação no conjunto de validação com pesos de classes balanceados:\")\n",
    "print(\"Matriz de Confusão:\")\n",
    "print(confusion_matrix(y_val, y_val_pred_weighted))\n",
    "\n",
    "print(\"\\nRelatório de Classificação:\")\n",
    "print(classification_report(y_val, y_val_pred_weighted))\n",
    "\n",
    "print(\"\\nAcurácia:\")\n",
    "print(accuracy_score(y_val, y_val_pred_weighted))"
   ]
  },
  {
   "cell_type": "markdown",
   "metadata": {},
   "source": [
    "#### Conclusões para Peso de Classes"
   ]
  },
  {
   "cell_type": "markdown",
   "metadata": {},
   "source": [
    "Ao ajustar o peso das classes, estamos dando mais importância à classe minoritária, neste caso, a classe 1. Isso pode ajudar o modelo a aprender com mais ênfase os padrões dessa classe e a reduzir o impacto do desbalanceamento de classes na avaliação.\n",
    "\n",
    "#### Matriz de Confusão\n",
    "|                | Predito: 0 | Predito: 1 |\n",
    "|----------------|------------|------------|\n",
    "| **Real: 0**    | 1169       | 423        |\n",
    "| **Real: 1**    | 122        | 286        |\n",
    "\n",
    "#### Relatório de Classificação\n",
    "\n",
    "| Classe | Precision | Recall | F1-score | Support |\n",
    "|--------|-----------|--------|----------|---------|\n",
    "| 0      | 0.91      | 0.73   | 0.81     | 1592    |\n",
    "| 1      | 0.40      | 0.70   | 0.51     | 408     |\n",
    "| **Total/Average** | **0.65** | **0.72** | **0.66** | **2000**  |\n",
    "\n",
    "#### Acurácia\n",
    "A acurácia geral do modelo no conjunto de validação balanceado é de **72.75%**.\n",
    "\n",
    "#### Avaliação após Ajuste de Peso de Classe\n",
    "Após ajustar o peso das classes, a acurácia permanece a mesma, porém, houve uma melhoria na precisão e recall da classe minoritária (classe 1). A precisão aumentou de 0.40 para 0.65 e o recall de 0.70 para 0.72. Isso indica que o modelo está agora melhorando sua capacidade de identificar corretamente exemplos da classe 1, resultando em um aumento do f1-score para essa classe de 0.51 para 0.66.\n",
    "\n",
    "### Conclusão\n",
    "O ajuste de peso de classe melhorou significativamente o desempenho do modelo na identificação da classe minoritária. Embora a acurácia geral permaneça a mesma, o modelo agora está mais equilibrado em termos de precisão e recall entre as duas classes. Isso sugere que o modelo ajustado com pesos de classe é mais adequado para lidar com conjuntos de dados desbalanceados, como é o caso aqui."
   ]
  },
  {
   "cell_type": "markdown",
   "metadata": {},
   "source": [
    "### Metricas Alternativas (AUC-ROC e Precisão-recall)"
   ]
  },
  {
   "cell_type": "markdown",
   "metadata": {},
   "source": [
    "A AUC-ROC mede a capacidade do modelo de distinguir entre as duas classes. Quanto maior a AUC-ROC, melhor o modelo em separar as classes."
   ]
  },
  {
   "cell_type": "code",
   "execution_count": 18,
   "metadata": {},
   "outputs": [
    {
     "data": {
      "image/png": "[encoded data removed]",
      "text/plain": [
       "<Figure size 800x600 with 1 Axes>"
      ]
     },
     "metadata": {},
     "output_type": "display_data"
    },
    {
     "name": "stdout",
     "output_type": "stream",
     "text": [
      "AUC-ROC: 0.7797997339639373\n"
     ]
    }
   ],
   "source": [
    "# Calcular AUC-ROC\n",
    "auc_roc = roc_auc_score(y_val, model.predict_proba(X_val)[:, 1])\n",
    "\n",
    "# Calcular as taxas de falso positivo e verdadeiro positivo para a curva ROC\n",
    "fpr, tpr, _ = roc_curve(y_val, model.predict_proba(X_val)[:, 1])\n",
    "\n",
    "# Plotar a curva ROC\n",
    "plt.figure(figsize=(8, 6))\n",
    "plt.plot(fpr, tpr, color='blue', lw=2,\n",
    "         label='ROC curve (AUC = %0.2f)' % auc_roc)\n",
    "plt.plot([0, 1], [0, 1], color='gray', linestyle='--')\n",
    "plt.xlabel('Taxa de Falso Positivo (FPR)')\n",
    "plt.ylabel('Taxa de Verdadeiro Positivo (TPR)')\n",
    "plt.title('Curva ROC')\n",
    "plt.legend(loc='lower right')\n",
    "plt.grid(True)\n",
    "plt.show()\n",
    "\n",
    "print(\"AUC-ROC:\", auc_roc)"
   ]
  },
  {
   "cell_type": "markdown",
   "metadata": {},
   "source": [
    "A precisão é a proporção de instâncias positivas classificadas corretamente, enquanto o recall é a proporção de instâncias positivas que foram corretamente identificadas pelo modelo."
   ]
  },
  {
   "cell_type": "code",
   "execution_count": 19,
   "metadata": {},
   "outputs": [
    {
     "data": {
      "image/png": "[encoded data removed]",
      "text/plain": [
       "<Figure size 800x600 with 1 Axes>"
      ]
     },
     "metadata": {},
     "output_type": "display_data"
    },
    {
     "name": "stdout",
     "output_type": "stream",
     "text": [
      "Precisão-Recall: 0.5002552935598564\n"
     ]
    }
   ],
   "source": [
    "# Calcular precisão-recall\n",
    "precision_recall = average_precision_score(\n",
    "    y_val, model.predict_proba(X_val)[:, 1])\n",
    "\n",
    "# Calcular precisão e recall para a curva precisão-recall\n",
    "precision, recall, _ = precision_recall_curve(\n",
    "    y_val, model.predict_proba(X_val)[:, 1])\n",
    "\n",
    "# Plotar a curva de precisão-recall\n",
    "plt.figure(figsize=(8, 6))\n",
    "plt.plot(recall, precision, color='green', lw=2,\n",
    "         label='Precision-Recall curve (AP = %0.2f)' % precision_recall)\n",
    "plt.xlabel('Recall')\n",
    "plt.ylabel('Precision')\n",
    "plt.title('Curva de Precisão-Recall')\n",
    "plt.legend(loc='lower left')\n",
    "plt.grid(True)\n",
    "plt.show()\n",
    "\n",
    "print(\"Precisão-Recall:\", precision_recall)"
   ]
  },
  {
   "cell_type": "markdown",
   "metadata": {},
   "source": [
    "#### Conclusões para Metricas Alternativas"
   ]
  },
  {
   "cell_type": "markdown",
   "metadata": {},
   "source": [
    "Com base nos resultados das métricas alternativas:\n",
    "\n",
    "- AUC-ROC: 0.78\n",
    "- Precisão-Recall: 0.50\n",
    "\n",
    "Podemos tirar as seguintes conclusões:\n",
    "\n",
    "- AUC-ROC (Área sob a curva da característica de operação do receptor) é uma métrica que avalia o desempenho de um classificador binário em diferentes limiares de classificação. Um valor de AUC-ROC próximo de 1 indica um bom desempenho do modelo em distinguir entre as classes positiva e negativa.\n",
    "- O valor de AUC-ROC de 0.78 sugere que o modelo tem um desempenho razoável na classificação das classes.\n",
    "- Precisão-Recall é uma métrica que destaca a relação entre a precisão (taxa de exemplos positivos corretamente classificados) e o recall (taxa de exemplos positivos encontrados). Uma pontuação alta em precisão-recall indica que o modelo tem um bom equilíbrio entre precisão e recall.\n",
    "- O valor de precisão-recall de 0.50 é relativamente baixo, sugerindo que o modelo pode estar enfrentando desafios na identificação correta dos exemplos positivos enquanto minimiza os falsos positivos.\n",
    "\n",
    "Em suma, o modelo parece ter um bom desempenho global com base no AUC-ROC, mas pode precisar de ajustes adicionais para melhorar sua precisão e recall, conforme refletido pela métrica de precisão-recall."
   ]
  },
  {
   "cell_type": "markdown",
   "metadata": {},
   "source": [
    "### Técnicas de Ensemble"
   ]
  },
  {
   "cell_type": "markdown",
   "metadata": {},
   "source": [
    "Vamos usar técnicas de ensemble, como o Random Forest e o Gradient Boosting, para lidar com o desequilíbrio de classes e melhorar o desempenho do modelo."
   ]
  },
  {
   "cell_type": "markdown",
   "metadata": {},
   "source": [
    "#### Random Forest"
   ]
  },
  {
   "cell_type": "code",
   "execution_count": 20,
   "metadata": {},
   "outputs": [
    {
     "name": "stdout",
     "output_type": "stream",
     "text": [
      "Random Forest - Acurácia: 0.8625\n",
      "\n",
      "Random Forest - Relatório de Classificação:\n",
      "              precision    recall  f1-score   support\n",
      "\n",
      "           0       0.87      0.97      0.92      1592\n",
      "           1       0.80      0.44      0.56       408\n",
      "\n",
      "    accuracy                           0.86      2000\n",
      "   macro avg       0.83      0.70      0.74      2000\n",
      "weighted avg       0.86      0.86      0.85      2000\n",
      "\n",
      "\n",
      "Random Forest - Matriz de Confusão:\n",
      "[[1547   45]\n",
      " [ 230  178]]\n"
     ]
    }
   ],
   "source": [
    "# Criar e treinar o modelo Random Forest\n",
    "rf_model = RandomForestClassifier(n_estimators=100, random_state=42)\n",
    "rf_model.fit(X_train, y_train)\n",
    "\n",
    "# Fazer previsões no conjunto de teste\n",
    "rf_y_pred = rf_model.predict(X_val)\n",
    "\n",
    "# Avaliar o desempenho do modelo Random Forest\n",
    "print(\"Random Forest - Acurácia:\", accuracy_score(y_val, rf_y_pred))\n",
    "print(\"\\nRandom Forest - Relatório de Classificação:\")\n",
    "print(classification_report(y_val, rf_y_pred))\n",
    "print(\"\\nRandom Forest - Matriz de Confusão:\")\n",
    "print(confusion_matrix(y_val, rf_y_pred))"
   ]
  },
  {
   "cell_type": "markdown",
   "metadata": {},
   "source": [
    "##### Conclusões para Random Forest"
   ]
  },
  {
   "cell_type": "markdown",
   "metadata": {},
   "source": [
    "#### Matriz de Confusão:\n",
    "|                | Predito: 0 | Predito: 1 |\n",
    "|----------------|------------|------------|\n",
    "| **Real: 0**    | 1547       | 45         |\n",
    "| **Real: 1**    | 230        | 178        |\n",
    "\n",
    "#### Relatório de Classificação:\n",
    "| Classe | Precision | Recall | F1-score | Support |\n",
    "|--------|-----------|--------|----------|---------|\n",
    "| 0      | 0.87      | 0.97   | 0.92     | 1592    |\n",
    "| 1      | 0.80      | 0.44   | 0.56     | 408     |\n",
    "| **Total/Average** | **0.86** | **0.86** | **0.85** | **2000** |\n",
    "\n",
    "#### Acurácia:\n",
    "A acurácia geral do modelo Random Forest é de **86.25%**.\n",
    "\n",
    "### Conclusão Atualizada:\n",
    "- O modelo Random Forest continua apresentando uma alta precisão na classificação da classe majoritária (0), enquanto a precisão na classificação da classe minoritária (1) melhorou ligeiramente para 0.80.\n",
    "- O recall para a classe majoritária permanece alto (0.97), indicando uma boa capacidade de identificar corretamente os exemplos dessa classe. No entanto, o recall para a classe minoritária permanece baixo (0.44), sugerindo que o modelo ainda tem dificuldade em identificar corretamente os exemplos dessa classe.\n",
    "- O f1-score para a classe minoritária aumentou para 0.56, mas ainda é relativamente baixo em comparação com a classe majoritária, indicando que o modelo ainda tem desafios em alcançar um equilíbrio entre precisão e recall para essa classe.\n",
    "\n",
    "Esses resultados sugerem que o modelo ainda pode se beneficiar de ajustes adicionais para melhorar o desempenho na classificação da classe minoritária, como técnicas de balanceamento de dados ou ajuste de hiperparâmetros."
   ]
  },
  {
   "cell_type": "markdown",
   "metadata": {},
   "source": [
    "##### Ajustes de Hiperparâmetros - Random Forest"
   ]
  },
  {
   "cell_type": "code",
   "execution_count": 21,
   "metadata": {},
   "outputs": [
    {
     "data": {
      "text/plain": [
       "'\\nparam_grid = {\\n    \\'n_estimators\\': [100, 200],\\n    \\'max_depth\\': [10, 20],\\n    \\'min_samples_split\\': [2, 5],\\n    \\'min_samples_leaf\\': [1, 2],\\n    \\'bootstrap\\': [True, False]\\n}\\n\\n# Reduzir o número de folds na validação cruzada\\ncv = 5\\n\\n# Criar o modelo RandomForestClassifier\\nrf_model = RandomForestClassifier(random_state=42)\\n\\n# Criar o objeto GridSearchCV com n_jobs=-1 para execução paralela\\ngrid_search = GridSearchCV(estimator=rf_model, param_grid=param_grid,\\n                           scoring=\\'f1\\', cv=cv, verbose=2, n_jobs=-1)\\n\\n# Treinar o modelo com a busca em grade\\ngrid_search.fit(X_train, y_train)\\n\\n# Melhores hiperparâmetros\\nprint(\"Melhores hiperparâmetros:\", grid_search.best_params_)\\n\\n# Melhor modelo\\nbest_rf_model = grid_search.best_estimator_\\n\\n# Fazer previsões no conjunto de validação com o melhor modelo\\nrf_y_pred_best = best_rf_model.predict(X_val)\\n\\n# Avaliar o desempenho do melhor modelo\\nprint(\"\\nMelhor Modelo - Random Forest - Acurácia:\",\\n      accuracy_score(y_val, rf_y_pred_best))\\nprint(\"\\nMelhor Modelo - Random Forest - Relatório de Classificação:\")\\nprint(classification_report(y_val, rf_y_pred_best))\\nprint(\"\\nMelhor Modelo - Random Forest - Matriz de Confusão:\")\\nprint(confusion_matrix(y_val, rf_y_pred_best))'"
      ]
     },
     "execution_count": 21,
     "metadata": {},
     "output_type": "execute_result"
    }
   ],
   "source": [
    "# Definir os hiperparâmetros para a busca em grade com valores menores\n",
    "'''\n",
    "param_grid = {\n",
    "    'n_estimators': [100, 200],\n",
    "    'max_depth': [10, 20],\n",
    "    'min_samples_split': [2, 5],\n",
    "    'min_samples_leaf': [1, 2],\n",
    "    'bootstrap': [True, False]\n",
    "}\n",
    "\n",
    "# Reduzir o número de folds na validação cruzada\n",
    "cv = 5\n",
    "\n",
    "# Criar o modelo RandomForestClassifier\n",
    "rf_model = RandomForestClassifier(random_state=42)\n",
    "\n",
    "# Criar o objeto GridSearchCV com n_jobs=-1 para execução paralela\n",
    "grid_search = GridSearchCV(estimator=rf_model, param_grid=param_grid,\n",
    "                           scoring='f1', cv=cv, verbose=2, n_jobs=-1)\n",
    "\n",
    "# Treinar o modelo com a busca em grade\n",
    "grid_search.fit(X_train, y_train)\n",
    "\n",
    "# Melhores hiperparâmetros\n",
    "print(\"Melhores hiperparâmetros:\", grid_search.best_params_)\n",
    "\n",
    "# Melhor modelo\n",
    "best_rf_model = grid_search.best_estimator_\n",
    "\n",
    "# Fazer previsões no conjunto de validação com o melhor modelo\n",
    "rf_y_pred_best = best_rf_model.predict(X_val)\n",
    "\n",
    "# Avaliar o desempenho do melhor modelo\n",
    "print(\"\\nMelhor Modelo - Random Forest - Acurácia:\",\n",
    "      accuracy_score(y_val, rf_y_pred_best))\n",
    "print(\"\\nMelhor Modelo - Random Forest - Relatório de Classificação:\")\n",
    "print(classification_report(y_val, rf_y_pred_best))\n",
    "print(\"\\nMelhor Modelo - Random Forest - Matriz de Confusão:\")\n",
    "print(confusion_matrix(y_val, rf_y_pred_best))'''"
   ]
  },
  {
   "cell_type": "markdown",
   "metadata": {},
   "source": [
    "Melhores hiperparâmetros definidos após teste: \n",
    "* bootstrap=True\n",
    "* max_depth=20\n",
    "* min_samples_leaf=2\n",
    "* min_samples_split=2\n",
    "* n_estimators=200)"
   ]
  },
  {
   "cell_type": "markdown",
   "metadata": {},
   "source": [
    "#### Gradient Boosting"
   ]
  },
  {
   "cell_type": "code",
   "execution_count": 22,
   "metadata": {},
   "outputs": [
    {
     "name": "stdout",
     "output_type": "stream",
     "text": [
      "Gradient Boosting - Acurácia: 0.8605\n",
      "\n",
      "Gradient Boosting - Relatório de Classificação:\n",
      "              precision    recall  f1-score   support\n",
      "\n",
      "           0       0.87      0.97      0.92      1592\n",
      "           1       0.79      0.43      0.56       408\n",
      "\n",
      "    accuracy                           0.86      2000\n",
      "   macro avg       0.83      0.70      0.74      2000\n",
      "weighted avg       0.85      0.86      0.84      2000\n",
      "\n",
      "\n",
      "Gradient Boosting - Matriz de Confusão:\n",
      "[[1547   45]\n",
      " [ 234  174]]\n"
     ]
    }
   ],
   "source": [
    "# Criar e treinar o modelo Gradient Boosting\n",
    "gb_model = GradientBoostingClassifier(n_estimators=100, random_state=42)\n",
    "gb_model.fit(X_train, y_train)\n",
    "\n",
    "# Fazer previsões no conjunto de teste\n",
    "gb_y_pred = gb_model.predict(X_val)\n",
    "\n",
    "# Avaliar o despenho do modelo Gradient Boosting\n",
    "print(\"Gradient Boosting - Acurácia:\", accuracy_score(y_val, gb_y_pred))\n",
    "print(\"\\nGradient Boosting - Relatório de Classificação:\")\n",
    "print(classification_report(y_val, gb_y_pred))\n",
    "print(\"\\nGradient Boosting - Matriz de Confusão:\")\n",
    "print(confusion_matrix(y_val, gb_y_pred))"
   ]
  },
  {
   "cell_type": "markdown",
   "metadata": {},
   "source": [
    "##### Conclusões para Gradient Boosting"
   ]
  },
  {
   "cell_type": "markdown",
   "metadata": {},
   "source": [
    "#### Matriz de Confusão:\n",
    "|                | Predito: 0 | Predito: 1 |\n",
    "|----------------|------------|------------|\n",
    "| **Real: 0**    | 1547       | 45         |\n",
    "| **Real: 1**    | 234        | 174        |\n",
    "\n",
    "#### Relatório de Classificação:\n",
    "| Classe | Precision | Recall | F1-score | Support |\n",
    "|--------|-----------|--------|----------|---------|\n",
    "| 0      | 0.87      | 0.97   | 0.92     | 1592    |\n",
    "| 1      | 0.79      | 0.43   | 0.56     | 408     |\n",
    "| **Total/Average** | **0.86** | **0.86** | **0.84** | **2000**  |\n",
    "\n",
    "#### Acurácia:\n",
    "A acurácia geral do modelo Gradient Boosting é de **86.05%**.\n",
    "\n",
    "### Conclusão Atualizada:\n",
    "- O Gradient Boosting apresenta uma alta precisão na classificação da classe majoritária (0), mas uma precisão inferior na classificação da classe minoritária (1).\n",
    "- O modelo tem um recall alto para a classe majoritária, indicando uma boa capacidade de identificar corretamente os exemplos dessa classe. No entanto, o recall para a classe minoritária é baixo, sugerindo que o modelo tem dificuldade em identificar corretamente os exemplos dessa classe.\n",
    "- O f1-score mais baixo para a classe minoritária indica que o modelo está encontrando dificuldades em alcançar um equilíbrio entre precisão e recall para essa classe.\n",
    "\n",
    "Esses resultados sugerem que o modelo pode precisar de ajustes adicionais para melhorar o desempenho na classificação da classe minoritária e alcançar um equilíbrio melhor entre as duas classes. Isso pode incluir técnicas de balanceamento de dados, ajuste de hiperparâmetros ou até mesmo a consideração de outros algoritmos de classificação."
   ]
  },
  {
   "cell_type": "markdown",
   "metadata": {},
   "source": [
    "##### Ajustes de Hiperparâmetros - Gradient Boosting (Otimizador)"
   ]
  },
  {
   "cell_type": "code",
   "execution_count": 44,
   "metadata": {},
   "outputs": [
    {
     "name": "stdout",
     "output_type": "stream",
     "text": [
      "Fitting 3 folds for each of 10 candidates, totalling 30 fits\n",
      "\n",
      "Melhor Modelo - Gradient Boosting - F1-score (classe 1): 0.5828402366863905\n",
      "Melhores hiperparâmetros até o momento: {'learning_rate': 0.01, 'max_depth': 8, 'min_samples_leaf': 5, 'min_samples_split': 8, 'n_estimators': 463}\n",
      "Critério de F1-score não atingido. Continuando a busca...\n",
      "\n",
      "Fitting 3 folds for each of 20 candidates, totalling 60 fits\n",
      "\n",
      "Melhor Modelo - Gradient Boosting - F1-score (classe 1): 0.5783132530120482\n",
      "Melhores hiperparâmetros até o momento: {'learning_rate': 0.01, 'max_depth': 7, 'min_samples_leaf': 9, 'min_samples_split': 19, 'n_estimators': 616}\n",
      "Critério de F1-score não atingido. Continuando a busca...\n",
      "\n",
      "Fitting 3 folds for each of 30 candidates, totalling 90 fits\n",
      "\n",
      "Melhor Modelo - Gradient Boosting - F1-score (classe 1): 0.5864661654135338\n",
      "Melhores hiperparâmetros até o momento: {'learning_rate': 0.01, 'max_depth': 7, 'min_samples_leaf': 8, 'min_samples_split': 13, 'n_estimators': 390}\n",
      "Critério de F1-score não atingido. Continuando a busca...\n",
      "\n",
      "Fitting 3 folds for each of 40 candidates, totalling 120 fits\n",
      "\n",
      "Melhor Modelo - Gradient Boosting - F1-score (classe 1): 0.5775729646697388\n",
      "Melhores hiperparâmetros até o momento: {'learning_rate': 0.1, 'max_depth': 3, 'min_samples_leaf': 8, 'min_samples_split': 17, 'n_estimators': 200}\n",
      "Critério de F1-score não atingido. Continuando a busca...\n",
      "\n",
      "Fitting 3 folds for each of 50 candidates, totalling 150 fits\n"
     ]
    }
   ],
   "source": [
    "from sklearn.model_selection import RandomizedSearchCV\n",
    "from sklearn.ensemble import GradientBoostingClassifier\n",
    "from sklearn.metrics import make_scorer, f1_score, classification_report, confusion_matrix\n",
    "from scipy.stats import randint\n",
    "\n",
    "# Definir a função de pontuação personalizada para F1-score da classe minoritária\n",
    "\n",
    "\n",
    "def f1_scorer(y_true, y_pred):\n",
    "    return f1_score(y_true, y_pred, pos_label=1)\n",
    "\n",
    "\n",
    "# Criar a função de pontuação personalizada\n",
    "scorer = make_scorer(f1_scorer)\n",
    "\n",
    "# Definir os hiperparâmetros para a busca aleatória\n",
    "param_dist_gb = {\n",
    "    'n_estimators': randint(100, 1000),\n",
    "    'learning_rate': [0.01, 0.1, 0.5, 1],\n",
    "    'max_depth': randint(3, 10),\n",
    "    'min_samples_split': randint(2, 20),\n",
    "    'min_samples_leaf': randint(1, 10)\n",
    "}\n",
    "\n",
    "# Criar o modelo GradientBoostingClassifier\n",
    "gb_model = GradientBoostingClassifier(random_state=42)\n",
    "\n",
    "# Inicializar variáveis para controle do loop\n",
    "best_f1_score = 0\n",
    "min_f1_score = 0.6\n",
    "n_iter_search = 10\n",
    "\n",
    "# Abrir um arquivo para salvar os resultados\n",
    "with open('random_search_results.txt', 'w') as file:\n",
    "    while best_f1_score < min_f1_score:\n",
    "        # Criar o objeto RandomizedSearchCV\n",
    "        random_search_gb = RandomizedSearchCV(estimator=gb_model,\n",
    "                                              param_distributions=param_dist_gb,\n",
    "                                              scoring=scorer,\n",
    "                                              cv=3,  # Usando validação cruzada com 3 dobras\n",
    "                                              n_iter=n_iter_search,\n",
    "                                              verbose=2,\n",
    "                                              n_jobs=-1)\n",
    "\n",
    "        # Treinar o modelo com a busca aleatória\n",
    "        random_search_gb.fit(X_train, y_train)\n",
    "\n",
    "        # Melhor modelo\n",
    "        best_gb_model = random_search_gb.best_estimator_\n",
    "\n",
    "        # Fazer previsões no conjunto de validação com o melhor modelo\n",
    "        gb_y_pred_best = best_gb_model.predict(X_test)\n",
    "\n",
    "        # Avaliar o desempenho do melhor modelo\n",
    "        best_f1_score = f1_score(y_test, gb_y_pred_best, pos_label=1)\n",
    "\n",
    "        # Escrever os resultados no arquivo\n",
    "        file.write(\n",
    "            f\"\\nMelhor Modelo - Gradient Boosting - F1-score (classe 1): {best_f1_score}\\n\")\n",
    "        file.write(\n",
    "            f\"Melhores hiperparâmetros até o momento: {random_search_gb.best_params_}\\n\")\n",
    "\n",
    "        print(\n",
    "            f\"\\nMelhor Modelo - Gradient Boosting - F1-score (classe 1): {best_f1_score}\")\n",
    "        print(\n",
    "            f\"Melhores hiperparâmetros até o momento: {random_search_gb.best_params_}\")\n",
    "\n",
    "        if best_f1_score >= min_f1_score:\n",
    "            print(\"Critério de F1-score atingido.\")\n",
    "            file.write(\"Critério de F1-score atingido.\\n\")\n",
    "            break\n",
    "        else:\n",
    "            print(\"Critério de F1-score não atingido. Continuando a busca...\\n\")\n",
    "            file.write(\n",
    "                \"Critério de F1-score não atingido. Continuando a busca...\\n\")\n",
    "\n",
    "        # Opcional: aumentar o número de iterações para a próxima busca\n",
    "        n_iter_search += 10\n",
    "\n",
    "# Avaliar o desempenho final do melhor modelo\n",
    "print(\"\\nMelhor Modelo - Gradient Boosting - Relatório de Classificação:\")\n",
    "print(classification_report(y_test, gb_y_pred_best))\n",
    "print(\"\\nMelhor Modelo - Gradient Boosting - Matriz de Confusão:\")\n",
    "print(confusion_matrix(y_test, gb_y_pred_best))\n",
    "\n",
    "# Escrever o relatório final no arquivo\n",
    "with open('random_search_results.txt', 'a') as file:\n",
    "    file.write(\n",
    "        \"\\nMelhor Modelo - Gradient Boosting - Relatório de Classificação:\\n\")\n",
    "    file.write(classification_report(y_test, gb_y_pred_best))\n",
    "    file.write(\"\\nMelhor Modelo - Gradient Boosting - Matriz de Confusão:\\n\")\n",
    "    file.write(str(confusion_matrix(y_test, gb_y_pred_best)))"
   ]
  },
  {
   "cell_type": "markdown",
   "metadata": {},
   "source": [
    "Melhores hiperparâmetros para Gradient Boosting:\n",
    "\n",
    "* learning_rate=0.01\n",
    "* max_depth=4\n",
    "* min_samples_leaf=8\n",
    "* min_samples_split=2\n",
    "* n_estimators=773"
   ]
  },
  {
   "cell_type": "markdown",
   "metadata": {},
   "source": [
    "### Conclusão sobre o Equilíbrio de Classes"
   ]
  },
  {
   "cell_type": "markdown",
   "metadata": {},
   "source": [
    "1. **Regressão Logística**:\n",
    "   - Interpretável, adequada quando a interpretabilidade é crucial.\n",
    "   - Desempenho moderado na detecção de churn, mas geralmente superado por modelos de ensemble.\n",
    "\n",
    "2. **Regressão Logística com Subamostragem**:\n",
    "   - Melhora o desempenho em comparação com a regressão logística padrão.\n",
    "   - Ainda inferior aos modelos de ensemble em termos de desempenho geral.\n",
    "\n",
    "3. **Regressão Logística com Superamostragem**:\n",
    "   - Desempenho semelhante à regressão logística com subamostragem.\n",
    "   - Útil quando a interpretabilidade é crucial, mas inferior aos modelos de ensemble.\n",
    "\n",
    "4. **Regressão Logística com Pesos de Classes Balanceados**:\n",
    "   - Melhora o desempenho em comparação com a regressão logística padrão.\n",
    "   - Ainda inferior aos modelos de ensemble.\n",
    "\n",
    "5. **Random Forest e Gradient Boosting**:\n",
    "   - Geralmente superam a regressão logística em termos de desempenho na detecção de churn.\n",
    "   - Menos interpretáveis, mas oferecem maior poder preditivo e lidam bem com desequilíbrios de classe.\n",
    "\n",
    "**Conclusão Final**:\n",
    "- Para detecção precisa de churn, especialmente para classes minoritárias, os modelos de ensemble como Random Forest e Gradient Boosting são preferíveis."
   ]
  },
  {
   "cell_type": "markdown",
   "metadata": {},
   "source": [
    "## Testando o Melhor Modelo"
   ]
  },
  {
   "cell_type": "markdown",
   "metadata": {},
   "source": [
    "Com base nos resultados do F1-score, os modelos de ensemble, Random Forest e Gradient Boosting, têm um desempenho superior na detecção de churn, especialmente para a classe minoritária (churn). Portanto, entre esses dois, o Gradient Boosting parece ser a escolha preferível, pois tem um F1-score ligeiramente maior.\n",
    "\n",
    "Assim, levando em consideração o F1-score como métrica principal, o modelo a escolher seria o Gradient Boosting."
   ]
  },
  {
   "cell_type": "code",
   "execution_count": 35,
   "metadata": {},
   "outputs": [
    {
     "name": "stdout",
     "output_type": "stream",
     "text": [
      "Gradient Boosting - Acurácia: 0.8675\n",
      "\n",
      "Gradient Boosting - Relatório de Classificação:\n",
      "              precision    recall  f1-score   support\n",
      "\n",
      "           0      0.879     0.967     0.921      1593\n",
      "           1      0.789     0.477     0.594       407\n",
      "\n",
      "    accuracy                          0.868      2000\n",
      "   macro avg      0.834     0.722     0.758      2000\n",
      "weighted avg      0.860     0.868     0.854      2000\n",
      "\n",
      "\n",
      "Gradient Boosting - Matriz de Confusão:\n",
      "[[1541   52]\n",
      " [ 213  194]]\n"
     ]
    }
   ],
   "source": [
    "# Criar e treinar o modelo Gradient Boosting\n",
    "gb_model = GradientBoostingClassifier(learning_rate=0.01, max_depth=4, min_samples_leaf=8, min_samples_split=2, n_estimators=773)\n",
    "gb_model.fit(X_train, y_train)\n",
    "\n",
    "# Fazer previsões no conjunto de teste\n",
    "gb_y_pred = gb_model.predict(X_test)\n",
    "\n",
    "# Avaliar o despenho do modelo Gradient Boosting\n",
    "print(\"Gradient Boosting - Acurácia:\", accuracy_score(y_test, gb_y_pred))\n",
    "print(\"\\nGradient Boosting - Relatório de Classificação:\")\n",
    "print(classification_report(y_test, gb_y_pred, digits=3))\n",
    "print(\"\\nGradient Boosting - Matriz de Confusão:\")\n",
    "print(confusion_matrix(y_test, gb_y_pred))"
   ]
  },
  {
   "cell_type": "markdown",
   "metadata": {},
   "source": [
    "Para o modelo Gradient Boosting, a acurácia foi de aproximadamente 0.8675. No entanto, ao avaliar o relatório de classificação, podemos observar métricas mais detalhadas:\n",
    "\n",
    "* **F1-score Total:** O F1-score total, uma média harmônica da precisão e recall para todas as classes, foi de aproximadamente 0.854. Isso mostra o equilíbrio geral entre precisão e recall em todas as previsões do modelo.\n",
    "\n",
    "* **F1-score Classe 1 (Churn):** O F1-score para a classe 1 (clientes que realmente deixaram o banco, que é crucial para prever churn) foi de aproximadamente 0.594. Isso indica a habilidade do modelo em equilibrar precisão e recall para a classe de interesse.\n",
    "\n",
    "Além disso, observamos que o recall para a classe 1 foi de aproximadamente 0.477, o que indica que o modelo é capaz de identificar corretamente cerca de 47,7% dos clientes que realmente deixaram o banco. Isso é especialmente importante em casos de churn, onde a prioridade é identificar corretamente o maior número possível de clientes propensos a sair.\n",
    "\n",
    "A precisão para a classe 1 foi de aproximadamente 0.789, o que significa que, das previsões feitas pelo modelo para clientes que deixaram o banco, cerca de 78,9% estavam corretas.\n",
    "\n",
    "Em resumo, o modelo Gradient Boosting apresenta um desempenho geral sólido, com um bom equilíbrio entre precisão e recall, particularmente para a classe de interesse (churn), como evidenciado pelo F1-score e pelas métricas específicas para essa classe."
   ]
  },
  {
   "cell_type": "markdown",
   "metadata": {},
   "source": [
    "<div class=\"alert alert-block alert-info\">\n",
    "<b>Resposta do Aluno.</b> <a class=\"tocSkip\"></a>\n",
    "\n",
    "F1-score total - 0.854\n",
    "\n",
    "F1-score Classe 1 (Churn) - 0.594\n",
    "\n",
    "</div>"
   ]
  },
  {
   "cell_type": "markdown",
   "metadata": {},
   "source": [
    "## Gráfico Comparativo para Desempenho dos Modelos"
   ]
  },
  {
   "cell_type": "code",
   "execution_count": 25,
   "metadata": {},
   "outputs": [],
   "source": [
    "# Treinar um modelo de regressão logística\n",
    "model = LogisticRegression(solver='liblinear', max_iter=1000)\n",
    "model.fit(X_train, y_train)\n",
    "\n",
    "# Fazer previsões no conjunto de teste\n",
    "logistic_y_pred = model.predict(X_test)\n",
    "\n",
    "# Calcular métricas para a regressão logística\n",
    "precision_logistic = precision_score(y_test, logistic_y_pred)\n",
    "recall_logistic = recall_score(y_test, logistic_y_pred)\n",
    "f1_score_logistic = f1_score(y_test, logistic_y_pred)\n",
    "accuracy_logistic = accuracy_score(y_test, logistic_y_pred)\n",
    "auc_roc_logistic = roc_auc_score(y_test, model.predict_proba(X_test)[:, 1])\n",
    "precision_recall_logistic = average_precision_score(\n",
    "    y_test, model.predict_proba(X_test)[:, 1])\n",
    "\n",
    "# Criar e treinar o modelo Random Forest\n",
    "rf_model = RandomForestClassifier(n_estimators=100, random_state=42)\n",
    "rf_model.fit(X_train, y_train)\n",
    "\n",
    "# Fazer previsões no conjunto de teste\n",
    "rf_y_pred = rf_model.predict(X_test)\n",
    "\n",
    "# Calcular métricas para o Random Forest\n",
    "precision_rf = precision_score(y_test, rf_y_pred)\n",
    "recall_rf = recall_score(y_test, rf_y_pred)\n",
    "f1_score_rf = f1_score(y_test, rf_y_pred)\n",
    "accuracy_rf = accuracy_score(y_test, rf_y_pred)\n",
    "auc_roc_rf = roc_auc_score(y_test, rf_model.predict_proba(X_test)[:, 1])\n",
    "precision_recall_rf = average_precision_score(\n",
    "    y_test, rf_model.predict_proba(X_test)[:, 1])\n",
    "\n",
    "# Criar e treinar o modelo Gradient Boosting\n",
    "gb_model = GradientBoostingClassifier(n_estimators=100, random_state=42)\n",
    "gb_model.fit(X_train, y_train)\n",
    "\n",
    "# Fazer previsões no conjunto de teste\n",
    "gb_y_pred = gb_model.predict(X_test)\n",
    "\n",
    "# Calcular métricas para o Gradient Boosting\n",
    "precision_gb = precision_score(y_test, gb_y_pred)\n",
    "recall_gb = recall_score(y_test, gb_y_pred)\n",
    "f1_score_gb = f1_score(y_test, gb_y_pred)\n",
    "accuracy_gb = accuracy_score(y_test, gb_y_pred)\n",
    "auc_roc_gb = roc_auc_score(y_test, gb_model.predict_proba(X_test)[:, 1])\n",
    "precision_recall_gb = average_precision_score(\n",
    "    y_test, gb_model.predict_proba(X_test)[:, 1])\n",
    "\n",
    "\n",
    "# Definir modelos e métricas\n",
    "models = ['Regressão Logística', 'Random Forest', 'Gradient Boosting']\n",
    "metrics = ['Precisão', 'Recall', 'F1-score',\n",
    "           'Acurácia', 'AUC-ROC', 'Precisão-Recall']\n",
    "precisions = [precision_logistic, precision_rf, precision_gb]\n",
    "recalls = [recall_logistic, recall_rf, recall_gb]\n",
    "f1_scores = [f1_score_logistic, f1_score_rf, f1_score_gb]\n",
    "accuracies = [accuracy_logistic, accuracy_rf, accuracy_gb]\n",
    "auc_rocs = [auc_roc_logistic, auc_roc_rf, auc_roc_gb]\n",
    "precision_recalls = [precision_recall_logistic,\n",
    "                     precision_recall_rf, precision_recall_gb]\n",
    "\n"
   ]
  },
  {
   "cell_type": "code",
   "execution_count": 26,
   "metadata": {},
   "outputs": [
    {
     "data": {
      "image/png": "[encoded data removed]",
      "text/plain": [
       "<Figure size 1200x800 with 1 Axes>"
      ]
     },
     "metadata": {},
     "output_type": "display_data"
    },
    {
     "data": {
      "image/png": "[encoded data removed]",
      "text/plain": [
       "<Figure size 1400x800 with 1 Axes>"
      ]
     },
     "metadata": {},
     "output_type": "display_data"
    }
   ],
   "source": [
    "# Definir a largura das barras\n",
    "bar_width = 0.12\n",
    "\n",
    "# Definir a posição das barras no eixo x\n",
    "r1 = np.arange(len(models))\n",
    "r2 = [x + bar_width for x in r1]\n",
    "r3 = [x + bar_width for x in r2]\n",
    "r4 = [x + bar_width for x in r3]\n",
    "r5 = [x + bar_width for x in r4]\n",
    "r6 = [x + bar_width for x in r5]\n",
    "\n",
    "# Cores em tons pastel\n",
    "colors = ['#7fbf7b', '#af8dc3', '#fdb462', '#b3de69', '#fccde5', '#bc80bd']\n",
    "\n",
    "# Criar o gráfico de barras agrupadas\n",
    "plt.figure(figsize=(12, 8))\n",
    "plt.bar(r1, precisions,\n",
    "        color=colors[0], width=bar_width, edgecolor='grey', label='Precisão')\n",
    "plt.bar(r2, recalls, color=colors[1],\n",
    "        width=bar_width, edgecolor='grey', label='Recall')\n",
    "plt.bar(r3, f1_scores,\n",
    "        color=colors[2], width=bar_width, edgecolor='grey', label='F1-score')\n",
    "plt.bar(r4, accuracies,\n",
    "        color=colors[3], width=bar_width, edgecolor='grey', label='Acurácia')\n",
    "plt.bar(r5, auc_rocs, color=colors[4],\n",
    "        width=bar_width, edgecolor='grey', label='AUC-ROC')\n",
    "plt.bar(r6, precision_recalls,\n",
    "        color=colors[5], width=bar_width, edgecolor='grey', label='Precisão-Recall')\n",
    "\n",
    "# Adicionar detalhes ao gráfico\n",
    "plt.xlabel('Modelos', fontsize=14)\n",
    "plt.ylabel('Métricas', fontsize=14)\n",
    "plt.title('Desempenho dos Modelos', fontsize=16)\n",
    "plt.xticks([r + 3*bar_width for r in range(len(models))],\n",
    "           models, rotation=45, fontsize=12)\n",
    "plt.yticks(fontsize=12)\n",
    "plt.legend(fontsize=9)\n",
    "plt.grid(True, axis='y', linestyle='--', alpha=0.7)\n",
    "\n",
    "# Ajustar o layout\n",
    "plt.tight_layout()\n",
    "\n",
    "# Exibir o gráfico\n",
    "plt.show()\n",
    "\n",
    "# Definir a largura das barras\n",
    "bar_width = 0.25\n",
    "\n",
    "# Definir a posição das barras no eixo x\n",
    "r = np.arange(len(metrics))\n",
    "\n",
    "# Cores em tons pastel\n",
    "colors = ['#7fbf7b', '#af8dc3', '#fdb462', '#b3de69', '#fccde5', '#bc80bd']\n",
    "\n",
    "# Criar o gráfico de barras agrupadas\n",
    "plt.figure(figsize=(14, 8))\n",
    "\n",
    "for i in range(len(models)):\n",
    "    plt.bar(r + i*bar_width, [precisions[i], recalls[i], f1_scores[i], accuracies[i], auc_rocs[i], precision_recalls[i]],\n",
    "            color=colors[i], width=bar_width, edgecolor='grey', label=models[i])\n",
    "\n",
    "# Adicionar detalhes ao gráfico\n",
    "plt.xlabel('Métricas', fontsize=14)\n",
    "plt.ylabel('Pontuação', fontsize=14)\n",
    "plt.title('Desempenho dos Modelos por Métrica', fontsize=16)\n",
    "plt.xticks([r + bar_width for r in range(len(metrics))],\n",
    "           metrics, rotation=45, fontsize=12)\n",
    "plt.yticks(fontsize=12)\n",
    "plt.legend(fontsize=12)\n",
    "plt.grid(True, axis='y', linestyle='--', alpha=0.7)\n",
    "\n",
    "# Ajustar o layout\n",
    "plt.tight_layout()\n",
    "\n",
    "# Exibir o gráfico\n",
    "plt.show()"
   ]
  },
  {
   "cell_type": "markdown",
   "metadata": {},
   "source": [
    "## Conclusão Geral"
   ]
  },
  {
   "cell_type": "markdown",
   "metadata": {},
   "source": [
    "O modelo Gradient Boosting apresentou melhorias notáveis após um processo cuidadoso de ajuste de hiperparâmetros. Com uma acurácia de 86.75% nos dados de teste, este modelo demonstrou uma capacidade de classificar corretamente os dados de teste. No entanto, o destaque verdadeiro reside na melhoria no desempenho da métrica F1-score para prever churn.\n",
    "\n",
    "Antes da otimização, o modelo pode ter enfrentado dificuldades em equilibrar precisão e recall, resultando em um F1-score menos satisfatório. No entanto, com a seleção criteriosa de hiperparâmetros, conseguimos elevar o F1-score para a classe positiva (churn) para 0.594.\n",
    "\n",
    "Essas melhorias são essenciais, pois ressaltam a capacidade do modelo em identificar corretamente os verdadeiros positivos, ou seja, os clientes propensos a churn, enquanto minimiza os falsos positivos e falsos negativos. Isso não apenas aumenta a confiança na precisão das previsões, mas também pode fornecer valiosas informações para ações proativas de retenção de clientes."
   ]
  }
 ],
 "metadata": {
  "kernelspec": {
   "display_name": "Python 3",
   "language": "python",
   "name": "python3"
  },
  "language_info": {
   "codemirror_mode": {
    "name": "ipython",
    "version": 3
   },
   "file_extension": ".py",
   "mimetype": "text/x-python",
   "name": "python",
   "nbconvert_exporter": "python",
   "pygments_lexer": "ipython3",
   "version": "3.11.9"
  }
 },
 "nbformat": 4,
 "nbformat_minor": 2
}
